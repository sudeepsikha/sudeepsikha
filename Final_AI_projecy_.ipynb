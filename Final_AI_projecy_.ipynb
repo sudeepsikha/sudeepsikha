{
  "cells": [
    {
      "cell_type": "markdown",
      "metadata": {
        "id": "view-in-github",
        "colab_type": "text"
      },
      "source": [
        "<a href=\"https://colab.research.google.com/github/sudeepsikha/sudeepsikha/blob/main/Final_AI_projecy_.ipynb\" target=\"_parent\"><img src=\"https://colab.research.google.com/assets/colab-badge.svg\" alt=\"Open In Colab\"/></a>"
      ]
    },
    {
      "cell_type": "code",
      "id": "61dd372a-b55f-4253-a1d5-497cd8e424a7",
      "metadata": {
        "jupyter": {
          "is_executing": true
        },
        "id": "61dd372a-b55f-4253-a1d5-497cd8e424a7"
      },
      "source": [
        "!pip install pandas numpy matplotlib seaborn"
      ],
      "outputs": [],
      "execution_count": null
    },
    {
      "cell_type": "code",
      "execution_count": null,
      "id": "f9ee192f-013e-4822-8520-5af0d81fd967",
      "metadata": {
        "id": "f9ee192f-013e-4822-8520-5af0d81fd967",
        "outputId": "4902af80-e4a3-46c1-f9c6-293a68ae46f9"
      },
      "outputs": [
        {
          "name": "stdout",
          "output_type": "stream",
          "text": [
            "Requirement already satisfied: nltk in c:\\users\\sudee\\anaconda3\\lib\\site-packages (3.8.1)\n",
            "Requirement already satisfied: click in c:\\users\\sudee\\anaconda3\\lib\\site-packages (from nltk) (8.1.7)\n",
            "Requirement already satisfied: joblib in c:\\users\\sudee\\anaconda3\\lib\\site-packages (from nltk) (1.2.0)\n",
            "Requirement already satisfied: regex>=2021.8.3 in c:\\users\\sudee\\anaconda3\\lib\\site-packages (from nltk) (2023.10.3)\n",
            "Requirement already satisfied: tqdm in c:\\users\\sudee\\anaconda3\\lib\\site-packages (from nltk) (4.65.0)\n",
            "Requirement already satisfied: colorama in c:\\users\\sudee\\anaconda3\\lib\\site-packages (from click->nltk) (0.4.6)\n"
          ]
        }
      ],
      "source": [
        "!pip install nltk"
      ]
    },
    {
      "cell_type": "code",
      "execution_count": null,
      "id": "35885083-e56c-4750-b141-2b37b35c4ecd",
      "metadata": {
        "id": "35885083-e56c-4750-b141-2b37b35c4ecd"
      },
      "outputs": [],
      "source": [
        "import pandas as pd\n",
        "import numpy as np"
      ]
    },
    {
      "cell_type": "code",
      "execution_count": null,
      "id": "ec14b7fa-2f9c-4e6a-90fd-58a8bb17d5db",
      "metadata": {
        "id": "ec14b7fa-2f9c-4e6a-90fd-58a8bb17d5db"
      },
      "outputs": [],
      "source": [
        "df = pd.read_csv('IMDB Dataset.csv')"
      ]
    },
    {
      "cell_type": "code",
      "execution_count": null,
      "id": "2e5f3f98-714b-418c-aedb-21b9ccf570b5",
      "metadata": {
        "id": "2e5f3f98-714b-418c-aedb-21b9ccf570b5",
        "outputId": "4b26f91d-5138-4fef-d2b5-9d699d40ad58"
      },
      "outputs": [
        {
          "data": {
            "text/html": [
              "<div>\n",
              "<style scoped>\n",
              "    .dataframe tbody tr th:only-of-type {\n",
              "        vertical-align: middle;\n",
              "    }\n",
              "\n",
              "    .dataframe tbody tr th {\n",
              "        vertical-align: top;\n",
              "    }\n",
              "\n",
              "    .dataframe thead th {\n",
              "        text-align: right;\n",
              "    }\n",
              "</style>\n",
              "<table border=\"1\" class=\"dataframe\">\n",
              "  <thead>\n",
              "    <tr style=\"text-align: right;\">\n",
              "      <th></th>\n",
              "      <th>review</th>\n",
              "      <th>sentiment</th>\n",
              "    </tr>\n",
              "  </thead>\n",
              "  <tbody>\n",
              "    <tr>\n",
              "      <th>0</th>\n",
              "      <td>One of the other reviewers has mentioned that ...</td>\n",
              "      <td>positive</td>\n",
              "    </tr>\n",
              "    <tr>\n",
              "      <th>1</th>\n",
              "      <td>A wonderful little production. &lt;br /&gt;&lt;br /&gt;The...</td>\n",
              "      <td>positive</td>\n",
              "    </tr>\n",
              "    <tr>\n",
              "      <th>2</th>\n",
              "      <td>I thought this was a wonderful way to spend ti...</td>\n",
              "      <td>positive</td>\n",
              "    </tr>\n",
              "    <tr>\n",
              "      <th>3</th>\n",
              "      <td>Basically there's a family where a little boy ...</td>\n",
              "      <td>negative</td>\n",
              "    </tr>\n",
              "    <tr>\n",
              "      <th>4</th>\n",
              "      <td>Petter Mattei's \"Love in the Time of Money\" is...</td>\n",
              "      <td>positive</td>\n",
              "    </tr>\n",
              "    <tr>\n",
              "      <th>...</th>\n",
              "      <td>...</td>\n",
              "      <td>...</td>\n",
              "    </tr>\n",
              "    <tr>\n",
              "      <th>49995</th>\n",
              "      <td>I thought this movie did a down right good job...</td>\n",
              "      <td>positive</td>\n",
              "    </tr>\n",
              "    <tr>\n",
              "      <th>49996</th>\n",
              "      <td>Bad plot, bad dialogue, bad acting, idiotic di...</td>\n",
              "      <td>negative</td>\n",
              "    </tr>\n",
              "    <tr>\n",
              "      <th>49997</th>\n",
              "      <td>I am a Catholic taught in parochial elementary...</td>\n",
              "      <td>negative</td>\n",
              "    </tr>\n",
              "    <tr>\n",
              "      <th>49998</th>\n",
              "      <td>I'm going to have to disagree with the previou...</td>\n",
              "      <td>negative</td>\n",
              "    </tr>\n",
              "    <tr>\n",
              "      <th>49999</th>\n",
              "      <td>No one expects the Star Trek movies to be high...</td>\n",
              "      <td>negative</td>\n",
              "    </tr>\n",
              "  </tbody>\n",
              "</table>\n",
              "<p>50000 rows × 2 columns</p>\n",
              "</div>"
            ],
            "text/plain": [
              "                                                  review sentiment\n",
              "0      One of the other reviewers has mentioned that ...  positive\n",
              "1      A wonderful little production. <br /><br />The...  positive\n",
              "2      I thought this was a wonderful way to spend ti...  positive\n",
              "3      Basically there's a family where a little boy ...  negative\n",
              "4      Petter Mattei's \"Love in the Time of Money\" is...  positive\n",
              "...                                                  ...       ...\n",
              "49995  I thought this movie did a down right good job...  positive\n",
              "49996  Bad plot, bad dialogue, bad acting, idiotic di...  negative\n",
              "49997  I am a Catholic taught in parochial elementary...  negative\n",
              "49998  I'm going to have to disagree with the previou...  negative\n",
              "49999  No one expects the Star Trek movies to be high...  negative\n",
              "\n",
              "[50000 rows x 2 columns]"
            ]
          },
          "execution_count": 6,
          "metadata": {},
          "output_type": "execute_result"
        }
      ],
      "source": [
        "df"
      ]
    },
    {
      "cell_type": "code",
      "execution_count": null,
      "id": "b38f3ea6-6343-4325-9e6f-9c84a7489b13",
      "metadata": {
        "id": "b38f3ea6-6343-4325-9e6f-9c84a7489b13",
        "outputId": "d6c06f80-17d2-476d-8fb1-3012f19b2474"
      },
      "outputs": [
        {
          "data": {
            "text/plain": [
              "'positive'"
            ]
          },
          "execution_count": 7,
          "metadata": {},
          "output_type": "execute_result"
        }
      ],
      "source": [
        "df['sentiment'][1454]"
      ]
    },
    {
      "cell_type": "code",
      "execution_count": null,
      "id": "941aa32b-c047-49de-ad31-49cd1e9d5923",
      "metadata": {
        "id": "941aa32b-c047-49de-ad31-49cd1e9d5923",
        "outputId": "eb486a3d-1772-4ca6-ae9e-4163fde9533d"
      },
      "outputs": [
        {
          "data": {
            "text/plain": [
              "'A wonderful little production. <br /><br />The filming technique is very unassuming- very old-time-BBC fashion and gives a comforting, and sometimes discomforting, sense of realism to the entire piece. <br /><br />The actors are extremely well chosen- Michael Sheen not only \"has got all the polari\" but he has all the voices down pat too! You can truly see the seamless editing guided by the references to Williams\\' diary entries, not only is it well worth the watching but it is a terrificly written and performed piece. A masterful production about one of the great master\\'s of comedy and his life. <br /><br />The realism really comes home with the little things: the fantasy of the guard which, rather than use the traditional \\'dream\\' techniques remains solid then disappears. It plays on our knowledge and our senses, particularly with the scenes concerning Orton and Halliwell and the sets (particularly of their flat with Halliwell\\'s murals decorating every surface) are terribly well done.'"
            ]
          },
          "execution_count": 8,
          "metadata": {},
          "output_type": "execute_result"
        }
      ],
      "source": [
        "df['review'][1]"
      ]
    },
    {
      "cell_type": "code",
      "execution_count": null,
      "id": "c810b41f-4875-48fb-ae16-33958c73a147",
      "metadata": {
        "id": "c810b41f-4875-48fb-ae16-33958c73a147"
      },
      "outputs": [],
      "source": [
        "import re"
      ]
    },
    {
      "cell_type": "code",
      "execution_count": null,
      "id": "8e515a6f-33d0-4cda-b0c9-7919e6159b91",
      "metadata": {
        "id": "8e515a6f-33d0-4cda-b0c9-7919e6159b91"
      },
      "outputs": [],
      "source": [
        "def summation (x,y):\n",
        "    z = x+y\n",
        "    return z"
      ]
    },
    {
      "cell_type": "code",
      "execution_count": null,
      "id": "00d232ee-8246-4fed-8da8-64f2f2f80216",
      "metadata": {
        "id": "00d232ee-8246-4fed-8da8-64f2f2f80216",
        "outputId": "1c116351-b16b-427d-9ca5-812ef08b317c"
      },
      "outputs": [
        {
          "data": {
            "text/plain": [
              "5"
            ]
          },
          "execution_count": 12,
          "metadata": {},
          "output_type": "execute_result"
        }
      ],
      "source": [
        "summation(2,3)"
      ]
    },
    {
      "cell_type": "code",
      "execution_count": null,
      "id": "5b0d34a6-b7ce-4b90-bf44-f27f8310670b",
      "metadata": {
        "id": "5b0d34a6-b7ce-4b90-bf44-f27f8310670b"
      },
      "outputs": [],
      "source": [
        "sum =lambda x,y :x+y"
      ]
    },
    {
      "cell_type": "code",
      "execution_count": null,
      "id": "cbfccfb9-7d9d-4261-8d93-782f827b3386",
      "metadata": {
        "id": "cbfccfb9-7d9d-4261-8d93-782f827b3386",
        "outputId": "3d3207c9-114e-458c-c460-4ec3dd922f8e"
      },
      "outputs": [
        {
          "data": {
            "text/plain": [
              "5"
            ]
          },
          "execution_count": 19,
          "metadata": {},
          "output_type": "execute_result"
        }
      ],
      "source": [
        "sum(2,3)"
      ]
    },
    {
      "cell_type": "code",
      "execution_count": null,
      "id": "a52a8c42-158a-4550-8884-c9a01992e5a2",
      "metadata": {
        "id": "a52a8c42-158a-4550-8884-c9a01992e5a2"
      },
      "outputs": [],
      "source": [
        "df['clean_text'] = df['review'].apply(lambda x:re.sub(\"<.*?>\", \"\",x))"
      ]
    },
    {
      "cell_type": "code",
      "execution_count": null,
      "id": "0ca8f6b0-76b4-486c-8176-8aa5b58d52aa",
      "metadata": {
        "id": "0ca8f6b0-76b4-486c-8176-8aa5b58d52aa",
        "outputId": "80e64b3e-74b7-4af5-ce9a-2cde3d58f205"
      },
      "outputs": [
        {
          "data": {
            "text/plain": [
              "'A wonderful little production. The filming technique is very unassuming- very old-time-BBC fashion and gives a comforting, and sometimes discomforting, sense of realism to the entire piece. The actors are extremely well chosen- Michael Sheen not only \"has got all the polari\" but he has all the voices down pat too! You can truly see the seamless editing guided by the references to Williams\\' diary entries, not only is it well worth the watching but it is a terrificly written and performed piece. A masterful production about one of the great master\\'s of comedy and his life. The realism really comes home with the little things: the fantasy of the guard which, rather than use the traditional \\'dream\\' techniques remains solid then disappears. It plays on our knowledge and our senses, particularly with the scenes concerning Orton and Halliwell and the sets (particularly of their flat with Halliwell\\'s murals decorating every surface) are terribly well done.'"
            ]
          },
          "execution_count": 21,
          "metadata": {},
          "output_type": "execute_result"
        }
      ],
      "source": [
        "df['clean_text'][1]"
      ]
    },
    {
      "cell_type": "code",
      "execution_count": null,
      "id": "cb8395d3-2bcc-4ad4-8508-ce60c7719752",
      "metadata": {
        "id": "cb8395d3-2bcc-4ad4-8508-ce60c7719752",
        "outputId": "60db9234-faf8-4a69-bded-d7082d0a6ae3"
      },
      "outputs": [
        {
          "data": {
            "text/plain": [
              "'A wonderful little production. <br /><br />The filming technique is very unassuming- very old-time-BBC fashion and gives a comforting, and sometimes discomforting, sense of realism to the entire piece. <br /><br />The actors are extremely well chosen- Michael Sheen not only \"has got all the polari\" but he has all the voices down pat too! You can truly see the seamless editing guided by the references to Williams\\' diary entries, not only is it well worth the watching but it is a terrificly written and performed piece. A masterful production about one of the great master\\'s of comedy and his life. <br /><br />The realism really comes home with the little things: the fantasy of the guard which, rather than use the traditional \\'dream\\' techniques remains solid then disappears. It plays on our knowledge and our senses, particularly with the scenes concerning Orton and Halliwell and the sets (particularly of their flat with Halliwell\\'s murals decorating every surface) are terribly well done.'"
            ]
          },
          "execution_count": 22,
          "metadata": {},
          "output_type": "execute_result"
        }
      ],
      "source": [
        "df['review'][1]"
      ]
    },
    {
      "cell_type": "code",
      "execution_count": null,
      "id": "62d523ad-668e-4848-8d47-a57b23a6e63d",
      "metadata": {
        "id": "62d523ad-668e-4848-8d47-a57b23a6e63d"
      },
      "outputs": [],
      "source": [
        "df['clean_text'] = df['clean_text'].apply(lambda x:re.sub(r'[^\\w\\s]', \"\",x))"
      ]
    },
    {
      "cell_type": "code",
      "execution_count": null,
      "id": "a650329a-caa3-423c-b057-82b1376135e2",
      "metadata": {
        "id": "a650329a-caa3-423c-b057-82b1376135e2",
        "outputId": "fc414c25-c23c-414e-d49b-d4b30ab925a8"
      },
      "outputs": [
        {
          "data": {
            "text/plain": [
              "'A wonderful little production The filming technique is very unassuming very oldtimeBBC fashion and gives a comforting and sometimes discomforting sense of realism to the entire piece The actors are extremely well chosen Michael Sheen not only has got all the polari but he has all the voices down pat too You can truly see the seamless editing guided by the references to Williams diary entries not only is it well worth the watching but it is a terrificly written and performed piece A masterful production about one of the great masters of comedy and his life The realism really comes home with the little things the fantasy of the guard which rather than use the traditional dream techniques remains solid then disappears It plays on our knowledge and our senses particularly with the scenes concerning Orton and Halliwell and the sets particularly of their flat with Halliwells murals decorating every surface are terribly well done'"
            ]
          },
          "execution_count": 24,
          "metadata": {},
          "output_type": "execute_result"
        }
      ],
      "source": [
        "df['clean_text'][1]"
      ]
    },
    {
      "cell_type": "code",
      "execution_count": null,
      "id": "5680250c-add4-4e19-8529-7afccdfc42a7",
      "metadata": {
        "id": "5680250c-add4-4e19-8529-7afccdfc42a7"
      },
      "outputs": [],
      "source": [
        "df['clean_text'] = df['clean_text'].str.lower()"
      ]
    },
    {
      "cell_type": "code",
      "execution_count": null,
      "id": "c8d0d856-3b90-40c3-b3a9-013a6408f8fa",
      "metadata": {
        "id": "c8d0d856-3b90-40c3-b3a9-013a6408f8fa",
        "outputId": "7e2874d3-ab5b-4292-d21b-8eddafc197eb"
      },
      "outputs": [
        {
          "data": {
            "text/plain": [
              "'a wonderful little production the filming technique is very unassuming very oldtimebbc fashion and gives a comforting and sometimes discomforting sense of realism to the entire piece the actors are extremely well chosen michael sheen not only has got all the polari but he has all the voices down pat too you can truly see the seamless editing guided by the references to williams diary entries not only is it well worth the watching but it is a terrificly written and performed piece a masterful production about one of the great masters of comedy and his life the realism really comes home with the little things the fantasy of the guard which rather than use the traditional dream techniques remains solid then disappears it plays on our knowledge and our senses particularly with the scenes concerning orton and halliwell and the sets particularly of their flat with halliwells murals decorating every surface are terribly well done'"
            ]
          },
          "execution_count": 26,
          "metadata": {},
          "output_type": "execute_result"
        }
      ],
      "source": [
        "df['clean_text'][1]"
      ]
    },
    {
      "cell_type": "code",
      "execution_count": null,
      "id": "af5ff4f2-1fbe-42f8-9eb3-bd04b64ff70f",
      "metadata": {
        "id": "af5ff4f2-1fbe-42f8-9eb3-bd04b64ff70f"
      },
      "outputs": [],
      "source": [
        "import nltk\n",
        "from nltk.tokenize import word_tokenize"
      ]
    },
    {
      "cell_type": "code",
      "execution_count": null,
      "id": "9670b664-8c0d-44a0-962c-837c20607d37",
      "metadata": {
        "id": "9670b664-8c0d-44a0-962c-837c20607d37"
      },
      "outputs": [],
      "source": [
        "df['tokenized_text'] = df['clean_text'].apply(lambda x:word_tokenize(x))"
      ]
    },
    {
      "cell_type": "code",
      "execution_count": null,
      "id": "8b075130-35da-4e23-bd0c-64eb2de8e0cc",
      "metadata": {
        "id": "8b075130-35da-4e23-bd0c-64eb2de8e0cc",
        "outputId": "51de03ac-51e9-466d-bf50-203f5378dfe8"
      },
      "outputs": [
        {
          "data": {
            "text/plain": [
              "0        [one, of, the, other, reviewers, has, mentione...\n",
              "1        [a, wonderful, little, production, the, filmin...\n",
              "2        [i, thought, this, was, a, wonderful, way, to,...\n",
              "3        [basically, theres, a, family, where, a, littl...\n",
              "4        [petter, matteis, love, in, the, time, of, mon...\n",
              "                               ...                        \n",
              "49995    [i, thought, this, movie, did, a, down, right,...\n",
              "49996    [bad, plot, bad, dialogue, bad, acting, idioti...\n",
              "49997    [i, am, a, catholic, taught, in, parochial, el...\n",
              "49998    [im, going, to, have, to, disagree, with, the,...\n",
              "49999    [no, one, expects, the, star, trek, movies, to...\n",
              "Name: tokenized_text, Length: 50000, dtype: object"
            ]
          },
          "execution_count": 29,
          "metadata": {},
          "output_type": "execute_result"
        }
      ],
      "source": [
        "df['tokenized_text']"
      ]
    },
    {
      "cell_type": "code",
      "execution_count": null,
      "id": "d378f8b2-96c1-4a3e-a76c-0054690f60d8",
      "metadata": {
        "id": "d378f8b2-96c1-4a3e-a76c-0054690f60d8",
        "outputId": "7ed80b48-af34-4198-dca3-9745bc8ec072"
      },
      "outputs": [
        {
          "data": {
            "text/plain": [
              "156"
            ]
          },
          "execution_count": 41,
          "metadata": {},
          "output_type": "execute_result"
        }
      ],
      "source": [
        "len(df['tokenized_text'][1])"
      ]
    },
    {
      "cell_type": "code",
      "execution_count": null,
      "id": "428a2cd9-64db-428a-a61c-2ec461a67295",
      "metadata": {
        "id": "428a2cd9-64db-428a-a61c-2ec461a67295"
      },
      "outputs": [],
      "source": [
        "from nltk.corpus import stopwords"
      ]
    },
    {
      "cell_type": "code",
      "execution_count": null,
      "id": "c43672df-f985-4158-810b-d89678bc670f",
      "metadata": {
        "id": "c43672df-f985-4158-810b-d89678bc670f"
      },
      "outputs": [],
      "source": [
        "stop_words = set(stopwords.words('english'))"
      ]
    },
    {
      "cell_type": "code",
      "execution_count": null,
      "id": "9db0a6ca-a982-49c9-9f20-d8eb21cf21b2",
      "metadata": {
        "id": "9db0a6ca-a982-49c9-9f20-d8eb21cf21b2",
        "outputId": "900111c0-0039-4889-b465-41ec01e338af"
      },
      "outputs": [
        {
          "data": {
            "text/plain": [
              "{'a',\n",
              " 'about',\n",
              " 'above',\n",
              " 'after',\n",
              " 'again',\n",
              " 'against',\n",
              " 'ain',\n",
              " 'all',\n",
              " 'am',\n",
              " 'an',\n",
              " 'and',\n",
              " 'any',\n",
              " 'are',\n",
              " 'aren',\n",
              " \"aren't\",\n",
              " 'as',\n",
              " 'at',\n",
              " 'be',\n",
              " 'because',\n",
              " 'been',\n",
              " 'before',\n",
              " 'being',\n",
              " 'below',\n",
              " 'between',\n",
              " 'both',\n",
              " 'but',\n",
              " 'by',\n",
              " 'can',\n",
              " 'couldn',\n",
              " \"couldn't\",\n",
              " 'd',\n",
              " 'did',\n",
              " 'didn',\n",
              " \"didn't\",\n",
              " 'do',\n",
              " 'does',\n",
              " 'doesn',\n",
              " \"doesn't\",\n",
              " 'doing',\n",
              " 'don',\n",
              " \"don't\",\n",
              " 'down',\n",
              " 'during',\n",
              " 'each',\n",
              " 'few',\n",
              " 'for',\n",
              " 'from',\n",
              " 'further',\n",
              " 'had',\n",
              " 'hadn',\n",
              " \"hadn't\",\n",
              " 'has',\n",
              " 'hasn',\n",
              " \"hasn't\",\n",
              " 'have',\n",
              " 'haven',\n",
              " \"haven't\",\n",
              " 'having',\n",
              " 'he',\n",
              " 'her',\n",
              " 'here',\n",
              " 'hers',\n",
              " 'herself',\n",
              " 'him',\n",
              " 'himself',\n",
              " 'his',\n",
              " 'how',\n",
              " 'i',\n",
              " 'if',\n",
              " 'in',\n",
              " 'into',\n",
              " 'is',\n",
              " 'isn',\n",
              " \"isn't\",\n",
              " 'it',\n",
              " \"it's\",\n",
              " 'its',\n",
              " 'itself',\n",
              " 'just',\n",
              " 'll',\n",
              " 'm',\n",
              " 'ma',\n",
              " 'me',\n",
              " 'mightn',\n",
              " \"mightn't\",\n",
              " 'more',\n",
              " 'most',\n",
              " 'mustn',\n",
              " \"mustn't\",\n",
              " 'my',\n",
              " 'myself',\n",
              " 'needn',\n",
              " \"needn't\",\n",
              " 'no',\n",
              " 'nor',\n",
              " 'not',\n",
              " 'now',\n",
              " 'o',\n",
              " 'of',\n",
              " 'off',\n",
              " 'on',\n",
              " 'once',\n",
              " 'only',\n",
              " 'or',\n",
              " 'other',\n",
              " 'our',\n",
              " 'ours',\n",
              " 'ourselves',\n",
              " 'out',\n",
              " 'over',\n",
              " 'own',\n",
              " 're',\n",
              " 's',\n",
              " 'same',\n",
              " 'shan',\n",
              " \"shan't\",\n",
              " 'she',\n",
              " \"she's\",\n",
              " 'should',\n",
              " \"should've\",\n",
              " 'shouldn',\n",
              " \"shouldn't\",\n",
              " 'so',\n",
              " 'some',\n",
              " 'such',\n",
              " 't',\n",
              " 'than',\n",
              " 'that',\n",
              " \"that'll\",\n",
              " 'the',\n",
              " 'their',\n",
              " 'theirs',\n",
              " 'them',\n",
              " 'themselves',\n",
              " 'then',\n",
              " 'there',\n",
              " 'these',\n",
              " 'they',\n",
              " 'this',\n",
              " 'those',\n",
              " 'through',\n",
              " 'to',\n",
              " 'too',\n",
              " 'under',\n",
              " 'until',\n",
              " 'up',\n",
              " 've',\n",
              " 'very',\n",
              " 'was',\n",
              " 'wasn',\n",
              " \"wasn't\",\n",
              " 'we',\n",
              " 'were',\n",
              " 'weren',\n",
              " \"weren't\",\n",
              " 'what',\n",
              " 'when',\n",
              " 'where',\n",
              " 'which',\n",
              " 'while',\n",
              " 'who',\n",
              " 'whom',\n",
              " 'why',\n",
              " 'will',\n",
              " 'with',\n",
              " 'won',\n",
              " \"won't\",\n",
              " 'wouldn',\n",
              " \"wouldn't\",\n",
              " 'y',\n",
              " 'you',\n",
              " \"you'd\",\n",
              " \"you'll\",\n",
              " \"you're\",\n",
              " \"you've\",\n",
              " 'your',\n",
              " 'yours',\n",
              " 'yourself',\n",
              " 'yourselves'}"
            ]
          },
          "execution_count": 37,
          "metadata": {},
          "output_type": "execute_result"
        }
      ],
      "source": [
        "stop_words"
      ]
    },
    {
      "cell_type": "code",
      "execution_count": null,
      "id": "8d81ab3d-9bc6-4e02-ad9a-d0b3b1668e16",
      "metadata": {
        "id": "8d81ab3d-9bc6-4e02-ad9a-d0b3b1668e16"
      },
      "outputs": [],
      "source": [
        "df['filtered_text'] = df['tokenized_text'].apply(lambda x: [word for word in x if word not in stop_words])"
      ]
    },
    {
      "cell_type": "code",
      "execution_count": null,
      "id": "c7feaf2f-bc8c-473c-87bb-7736b9aae212",
      "metadata": {
        "id": "c7feaf2f-bc8c-473c-87bb-7736b9aae212",
        "outputId": "6036f722-d2c7-475c-fc64-a7711c9d16e9"
      },
      "outputs": [
        {
          "data": {
            "text/plain": [
              "84"
            ]
          },
          "execution_count": 40,
          "metadata": {},
          "output_type": "execute_result"
        }
      ],
      "source": [
        "len(df['filtered_text'][1])"
      ]
    },
    {
      "cell_type": "code",
      "execution_count": null,
      "id": "25c63fdd-0151-42e2-aa56-5c6012da4986",
      "metadata": {
        "id": "25c63fdd-0151-42e2-aa56-5c6012da4986"
      },
      "outputs": [],
      "source": [
        "from nltk.stem import PorterStemmer"
      ]
    },
    {
      "cell_type": "code",
      "execution_count": null,
      "id": "168cecda-efc9-433c-9d3e-e54824dfdc63",
      "metadata": {
        "id": "168cecda-efc9-433c-9d3e-e54824dfdc63"
      },
      "outputs": [],
      "source": [
        "stem = PorterStemmer()"
      ]
    },
    {
      "cell_type": "code",
      "execution_count": null,
      "id": "1bcc19e2-66eb-4237-b64c-d99eaa4fa328",
      "metadata": {
        "id": "1bcc19e2-66eb-4237-b64c-d99eaa4fa328"
      },
      "outputs": [],
      "source": [
        "df['stem_text'] = df['filtered_text'].apply(lambda x: [stem.stem(word) for word in x])"
      ]
    },
    {
      "cell_type": "code",
      "execution_count": null,
      "id": "d7f68267-ed69-4aa6-8a64-528534f8bd7f",
      "metadata": {
        "id": "d7f68267-ed69-4aa6-8a64-528534f8bd7f",
        "outputId": "e59d8f62-4c9c-4817-e846-8cfba97f62d3"
      },
      "outputs": [
        {
          "data": {
            "text/plain": [
              "['wonderful',\n",
              " 'little',\n",
              " 'production',\n",
              " 'filming',\n",
              " 'technique',\n",
              " 'unassuming',\n",
              " 'oldtimebbc',\n",
              " 'fashion',\n",
              " 'gives',\n",
              " 'comforting',\n",
              " 'sometimes',\n",
              " 'discomforting',\n",
              " 'sense',\n",
              " 'realism',\n",
              " 'entire',\n",
              " 'piece',\n",
              " 'actors',\n",
              " 'extremely',\n",
              " 'well',\n",
              " 'chosen',\n",
              " 'michael',\n",
              " 'sheen',\n",
              " 'got',\n",
              " 'polari',\n",
              " 'voices',\n",
              " 'pat',\n",
              " 'truly',\n",
              " 'see',\n",
              " 'seamless',\n",
              " 'editing',\n",
              " 'guided',\n",
              " 'references',\n",
              " 'williams',\n",
              " 'diary',\n",
              " 'entries',\n",
              " 'well',\n",
              " 'worth',\n",
              " 'watching',\n",
              " 'terrificly',\n",
              " 'written',\n",
              " 'performed',\n",
              " 'piece',\n",
              " 'masterful',\n",
              " 'production',\n",
              " 'one',\n",
              " 'great',\n",
              " 'masters',\n",
              " 'comedy',\n",
              " 'life',\n",
              " 'realism',\n",
              " 'really',\n",
              " 'comes',\n",
              " 'home',\n",
              " 'little',\n",
              " 'things',\n",
              " 'fantasy',\n",
              " 'guard',\n",
              " 'rather',\n",
              " 'use',\n",
              " 'traditional',\n",
              " 'dream',\n",
              " 'techniques',\n",
              " 'remains',\n",
              " 'solid',\n",
              " 'disappears',\n",
              " 'plays',\n",
              " 'knowledge',\n",
              " 'senses',\n",
              " 'particularly',\n",
              " 'scenes',\n",
              " 'concerning',\n",
              " 'orton',\n",
              " 'halliwell',\n",
              " 'sets',\n",
              " 'particularly',\n",
              " 'flat',\n",
              " 'halliwells',\n",
              " 'murals',\n",
              " 'decorating',\n",
              " 'every',\n",
              " 'surface',\n",
              " 'terribly',\n",
              " 'well',\n",
              " 'done']"
            ]
          },
          "execution_count": 48,
          "metadata": {},
          "output_type": "execute_result"
        }
      ],
      "source": [
        "df['filtered_text'][1]"
      ]
    },
    {
      "cell_type": "code",
      "execution_count": null,
      "id": "8ad57938-95db-42b8-bba5-3f08acec6db8",
      "metadata": {
        "id": "8ad57938-95db-42b8-bba5-3f08acec6db8",
        "outputId": "e612c5f9-b20d-4327-f225-b8facd0b9448"
      },
      "outputs": [
        {
          "data": {
            "text/plain": [
              "['wonder',\n",
              " 'littl',\n",
              " 'product',\n",
              " 'film',\n",
              " 'techniqu',\n",
              " 'unassum',\n",
              " 'oldtimebbc',\n",
              " 'fashion',\n",
              " 'give',\n",
              " 'comfort',\n",
              " 'sometim',\n",
              " 'discomfort',\n",
              " 'sens',\n",
              " 'realism',\n",
              " 'entir',\n",
              " 'piec',\n",
              " 'actor',\n",
              " 'extrem',\n",
              " 'well',\n",
              " 'chosen',\n",
              " 'michael',\n",
              " 'sheen',\n",
              " 'got',\n",
              " 'polari',\n",
              " 'voic',\n",
              " 'pat',\n",
              " 'truli',\n",
              " 'see',\n",
              " 'seamless',\n",
              " 'edit',\n",
              " 'guid',\n",
              " 'refer',\n",
              " 'william',\n",
              " 'diari',\n",
              " 'entri',\n",
              " 'well',\n",
              " 'worth',\n",
              " 'watch',\n",
              " 'terrificli',\n",
              " 'written',\n",
              " 'perform',\n",
              " 'piec',\n",
              " 'master',\n",
              " 'product',\n",
              " 'one',\n",
              " 'great',\n",
              " 'master',\n",
              " 'comedi',\n",
              " 'life',\n",
              " 'realism',\n",
              " 'realli',\n",
              " 'come',\n",
              " 'home',\n",
              " 'littl',\n",
              " 'thing',\n",
              " 'fantasi',\n",
              " 'guard',\n",
              " 'rather',\n",
              " 'use',\n",
              " 'tradit',\n",
              " 'dream',\n",
              " 'techniqu',\n",
              " 'remain',\n",
              " 'solid',\n",
              " 'disappear',\n",
              " 'play',\n",
              " 'knowledg',\n",
              " 'sens',\n",
              " 'particularli',\n",
              " 'scene',\n",
              " 'concern',\n",
              " 'orton',\n",
              " 'halliwel',\n",
              " 'set',\n",
              " 'particularli',\n",
              " 'flat',\n",
              " 'halliwel',\n",
              " 'mural',\n",
              " 'decor',\n",
              " 'everi',\n",
              " 'surfac',\n",
              " 'terribl',\n",
              " 'well',\n",
              " 'done']"
            ]
          },
          "execution_count": 47,
          "metadata": {},
          "output_type": "execute_result"
        }
      ],
      "source": [
        "df['stem_text'][1]"
      ]
    },
    {
      "cell_type": "code",
      "execution_count": null,
      "id": "a184e4d1-5e69-460d-8f1e-fa080deaa74e",
      "metadata": {
        "id": "a184e4d1-5e69-460d-8f1e-fa080deaa74e"
      },
      "outputs": [],
      "source": [
        "X = df['stem_text']\n",
        "y = df['sentiment']"
      ]
    },
    {
      "cell_type": "code",
      "execution_count": null,
      "id": "b2f1ac73-1975-41bf-8ffa-a80da782ebf9",
      "metadata": {
        "id": "b2f1ac73-1975-41bf-8ffa-a80da782ebf9",
        "outputId": "5b360168-31fb-4153-d312-239ce1c7fd9b"
      },
      "outputs": [
        {
          "data": {
            "text/plain": [
              "0        [one, review, mention, watch, 1, oz, episod, y...\n",
              "1        [wonder, littl, product, film, techniqu, unass...\n",
              "2        [thought, wonder, way, spend, time, hot, summe...\n",
              "3        [basic, there, famili, littl, boy, jake, think...\n",
              "4        [petter, mattei, love, time, money, visual, st...\n",
              "                               ...                        \n",
              "49995    [thought, movi, right, good, job, wasnt, creat...\n",
              "49996    [bad, plot, bad, dialogu, bad, act, idiot, dir...\n",
              "49997    [cathol, taught, parochi, elementari, school, ...\n",
              "49998    [im, go, disagre, previou, comment, side, malt...\n",
              "49999    [one, expect, star, trek, movi, high, art, fan...\n",
              "Name: stem_text, Length: 50000, dtype: object"
            ]
          },
          "execution_count": 50,
          "metadata": {},
          "output_type": "execute_result"
        }
      ],
      "source": [
        "X"
      ]
    },
    {
      "cell_type": "code",
      "execution_count": null,
      "id": "329d14e9-2c21-4a95-873a-c050682b6683",
      "metadata": {
        "id": "329d14e9-2c21-4a95-873a-c050682b6683",
        "outputId": "56c56d29-2850-4b11-d7ea-97e236b64ef0"
      },
      "outputs": [
        {
          "data": {
            "text/plain": [
              "0        positive\n",
              "1        positive\n",
              "2        positive\n",
              "3        negative\n",
              "4        positive\n",
              "           ...   \n",
              "49995    positive\n",
              "49996    negative\n",
              "49997    negative\n",
              "49998    negative\n",
              "49999    negative\n",
              "Name: sentiment, Length: 50000, dtype: object"
            ]
          },
          "execution_count": 51,
          "metadata": {},
          "output_type": "execute_result"
        }
      ],
      "source": [
        "y"
      ]
    },
    {
      "cell_type": "code",
      "execution_count": null,
      "id": "23c82cce-25fc-460f-8c94-4cd5f0e6af9c",
      "metadata": {
        "id": "23c82cce-25fc-460f-8c94-4cd5f0e6af9c"
      },
      "outputs": [],
      "source": [
        "from sklearn.model_selection import train_test_split"
      ]
    },
    {
      "cell_type": "code",
      "execution_count": null,
      "id": "f6b5a477-c6df-4b27-9f14-d8f149a2d55b",
      "metadata": {
        "id": "f6b5a477-c6df-4b27-9f14-d8f149a2d55b"
      },
      "outputs": [],
      "source": [
        "X_train, X_test, y_train, y_test = train_test_split(X, y, test_size=0.2, random_state=42)"
      ]
    },
    {
      "cell_type": "code",
      "execution_count": null,
      "id": "3dc54686-a1d2-49d5-b3a2-7623bc57787d",
      "metadata": {
        "id": "3dc54686-a1d2-49d5-b3a2-7623bc57787d",
        "outputId": "0a7d3db0-c8c0-44af-ad93-a211877f53d1"
      },
      "outputs": [
        {
          "data": {
            "text/plain": [
              "39087    [that, kept, ask, mani, fight, scream, match, ...\n",
              "30893    [watch, entir, movi, could, watch, entir, movi...\n",
              "45278    [touch, love, stori, reminisc, mood, love, dra...\n",
              "16398    [latterday, fulci, schlocker, total, abysm, co...\n",
              "13653    [first, firmli, believ, norwegian, movi, conti...\n",
              "                               ...                        \n",
              "11284    [shadow, magic, recaptur, joy, amaz, first, mo...\n",
              "44732    [found, movi, quit, enjoy, fairli, entertain, ...\n",
              "38158    [avoid, one, terribl, movi, excit, pointless, ...\n",
              "860      [product, quit, surpris, absolut, love, obscur...\n",
              "15795    [decent, movi, although, littl, bit, short, ti...\n",
              "Name: stem_text, Length: 40000, dtype: object"
            ]
          },
          "execution_count": 56,
          "metadata": {},
          "output_type": "execute_result"
        }
      ],
      "source": [
        "X_train"
      ]
    },
    {
      "cell_type": "code",
      "execution_count": null,
      "id": "9242e35c-be23-4f6a-bcd9-1307277823e2",
      "metadata": {
        "id": "9242e35c-be23-4f6a-bcd9-1307277823e2",
        "outputId": "caead94c-9e9c-4cd7-c5a9-e5c16100e912"
      },
      "outputs": [
        {
          "data": {
            "text/plain": [
              "39087    negative\n",
              "30893    negative\n",
              "45278    positive\n",
              "16398    negative\n",
              "13653    negative\n",
              "           ...   \n",
              "11284    positive\n",
              "44732    positive\n",
              "38158    negative\n",
              "860      positive\n",
              "15795    positive\n",
              "Name: sentiment, Length: 40000, dtype: object"
            ]
          },
          "execution_count": 57,
          "metadata": {},
          "output_type": "execute_result"
        }
      ],
      "source": [
        "y_train"
      ]
    },
    {
      "cell_type": "code",
      "execution_count": null,
      "id": "401d24cd-2105-4ce1-8288-653ce03dc7f0",
      "metadata": {
        "id": "401d24cd-2105-4ce1-8288-653ce03dc7f0"
      },
      "outputs": [],
      "source": [
        "from sklearn.feature_extraction.text import TfidfVectorizer"
      ]
    },
    {
      "cell_type": "code",
      "execution_count": null,
      "id": "21dbc2de-64a9-4fb1-82c8-637345a91772",
      "metadata": {
        "id": "21dbc2de-64a9-4fb1-82c8-637345a91772"
      },
      "outputs": [],
      "source": [
        "tf_idf = TfidfVectorizer()"
      ]
    },
    {
      "cell_type": "code",
      "execution_count": null,
      "id": "2fb6993c-bff9-4589-a238-5d263ba704b0",
      "metadata": {
        "id": "2fb6993c-bff9-4589-a238-5d263ba704b0"
      },
      "outputs": [],
      "source": [
        "X_train = tf_idf.fit_transform(X_train.apply(lambda x:\"\".join(x)))"
      ]
    },
    {
      "cell_type": "code",
      "execution_count": null,
      "id": "27936de1-67df-4905-b7e8-3a49192025d5",
      "metadata": {
        "id": "27936de1-67df-4905-b7e8-3a49192025d5",
        "outputId": "540c25c7-9e80-4cd8-d53b-56f8a69b17a3"
      },
      "outputs": [
        {
          "data": {
            "text/plain": [
              "(40000, 39741)"
            ]
          },
          "execution_count": 67,
          "metadata": {},
          "output_type": "execute_result"
        }
      ],
      "source": [
        "X_train.shape"
      ]
    },
    {
      "cell_type": "code",
      "execution_count": null,
      "id": "d170a863-ea70-4c55-82b8-f0353019a08f",
      "metadata": {
        "id": "d170a863-ea70-4c55-82b8-f0353019a08f"
      },
      "outputs": [],
      "source": [
        "X_test = tf_idf.fit_transform(X_test.apply(lambda x:\"\".join(x)))"
      ]
    },
    {
      "cell_type": "code",
      "execution_count": null,
      "id": "782d3e09-c504-4bf7-950e-7d052967c45c",
      "metadata": {
        "id": "782d3e09-c504-4bf7-950e-7d052967c45c",
        "outputId": "083f26af-5882-47b4-bc6f-e17c61d53335"
      },
      "outputs": [
        {
          "data": {
            "text/plain": [
              "(10000, 9978)"
            ]
          },
          "execution_count": 68,
          "metadata": {},
          "output_type": "execute_result"
        }
      ],
      "source": [
        "X_test.shape"
      ]
    },
    {
      "cell_type": "code",
      "execution_count": null,
      "id": "6cf654a0-bc1e-40bb-94b4-60352977e129",
      "metadata": {
        "id": "6cf654a0-bc1e-40bb-94b4-60352977e129",
        "outputId": "e75019c2-3067-4c7b-c3d9-2eb61479492c"
      },
      "outputs": [
        {
          "data": {
            "text/plain": [
              "0        positive\n",
              "1        positive\n",
              "2        positive\n",
              "3        negative\n",
              "4        positive\n",
              "           ...   \n",
              "49995    positive\n",
              "49996    negative\n",
              "49997    negative\n",
              "49998    negative\n",
              "49999    negative\n",
              "Name: sentiment, Length: 50000, dtype: object"
            ]
          },
          "execution_count": 69,
          "metadata": {},
          "output_type": "execute_result"
        }
      ],
      "source": [
        "y"
      ]
    },
    {
      "cell_type": "code",
      "execution_count": null,
      "id": "44aafb5a-7ab3-4049-b4bf-f021cc8b1f46",
      "metadata": {
        "id": "44aafb5a-7ab3-4049-b4bf-f021cc8b1f46"
      },
      "outputs": [],
      "source": [
        "from sklearn.preprocessing import LabelEncoder"
      ]
    },
    {
      "cell_type": "code",
      "execution_count": null,
      "id": "311e50b2-986b-47ef-814a-cec96d5298c9",
      "metadata": {
        "id": "311e50b2-986b-47ef-814a-cec96d5298c9"
      },
      "outputs": [],
      "source": [
        "le = LabelEncoder()"
      ]
    },
    {
      "cell_type": "code",
      "execution_count": null,
      "id": "1fda3b91-6d58-42ff-a158-1e9358783185",
      "metadata": {
        "id": "1fda3b91-6d58-42ff-a158-1e9358783185"
      },
      "outputs": [],
      "source": [
        "y_train = le.fit_transform(y_train)"
      ]
    },
    {
      "cell_type": "code",
      "execution_count": null,
      "id": "74fc79a5-cc4a-40fd-af22-ff2829b1c87a",
      "metadata": {
        "id": "74fc79a5-cc4a-40fd-af22-ff2829b1c87a"
      },
      "outputs": [],
      "source": [
        "y_test = le.fit_transform(y_test)"
      ]
    },
    {
      "cell_type": "code",
      "execution_count": null,
      "id": "77736191-bf9a-43f1-bd14-12a6efcaa2a0",
      "metadata": {
        "id": "77736191-bf9a-43f1-bd14-12a6efcaa2a0",
        "outputId": "5177aeb7-b746-4dce-a7c0-15d9a1e2b10f"
      },
      "outputs": [
        {
          "data": {
            "text/plain": [
              "array([1., 0.], dtype=float32)"
            ]
          },
          "execution_count": 80,
          "metadata": {},
          "output_type": "execute_result"
        }
      ],
      "source": [
        "y_train[0]"
      ]
    },
    {
      "cell_type": "code",
      "execution_count": null,
      "id": "a6df52a5-b470-49fe-beed-3ea7615d68b3",
      "metadata": {
        "id": "a6df52a5-b470-49fe-beed-3ea7615d68b3",
        "outputId": "84e4f653-7264-457e-f8a5-42ef31d53888"
      },
      "outputs": [
        {
          "data": {
            "text/plain": [
              "array([1, 1, 0, ..., 1, 0, 1])"
            ]
          },
          "execution_count": 75,
          "metadata": {},
          "output_type": "execute_result"
        }
      ],
      "source": [
        "y_test"
      ]
    },
    {
      "cell_type": "code",
      "execution_count": null,
      "id": "17c7b0d5-49be-4948-b021-576f119cc644",
      "metadata": {
        "id": "17c7b0d5-49be-4948-b021-576f119cc644"
      },
      "outputs": [],
      "source": [
        "from keras.utils import to_categorical"
      ]
    },
    {
      "cell_type": "code",
      "execution_count": null,
      "id": "51be8013-1ffc-40a1-888c-3a04f5a7b143",
      "metadata": {
        "id": "51be8013-1ffc-40a1-888c-3a04f5a7b143"
      },
      "outputs": [],
      "source": [
        "y_train = to_categorical(y_train, num_classes=2)"
      ]
    },
    {
      "cell_type": "code",
      "execution_count": null,
      "id": "b9122021-6e80-4511-ae95-2387422c605e",
      "metadata": {
        "id": "b9122021-6e80-4511-ae95-2387422c605e",
        "outputId": "19751038-0796-4d53-abce-1f8d6f144dbe"
      },
      "outputs": [
        {
          "data": {
            "text/plain": [
              "array([[1., 0.],\n",
              "       [1., 0.],\n",
              "       [0., 1.],\n",
              "       ...,\n",
              "       [1., 0.],\n",
              "       [0., 1.],\n",
              "       [0., 1.]], dtype=float32)"
            ]
          },
          "execution_count": 78,
          "metadata": {},
          "output_type": "execute_result"
        }
      ],
      "source": [
        "y_train"
      ]
    },
    {
      "cell_type": "code",
      "execution_count": null,
      "id": "dff07cf1-b474-4c43-9b16-16d19ea470ea",
      "metadata": {
        "id": "dff07cf1-b474-4c43-9b16-16d19ea470ea",
        "outputId": "2bf29295-3b3e-4333-b9aa-5b3cfbeb1e41"
      },
      "outputs": [
        {
          "data": {
            "text/plain": [
              "1"
            ]
          },
          "execution_count": 82,
          "metadata": {},
          "output_type": "execute_result"
        }
      ],
      "source": [
        "y_test[0]"
      ]
    },
    {
      "cell_type": "code",
      "execution_count": null,
      "id": "504a362d-1395-400f-a5a1-0150e109856e",
      "metadata": {
        "id": "504a362d-1395-400f-a5a1-0150e109856e"
      },
      "outputs": [],
      "source": [
        "y_test = to_categorical(y_test, num_classes=2)"
      ]
    },
    {
      "cell_type": "code",
      "execution_count": null,
      "id": "00a5a0c4-a155-4f05-b590-d5cbad7e4ab7",
      "metadata": {
        "id": "00a5a0c4-a155-4f05-b590-d5cbad7e4ab7",
        "outputId": "3eaf1b84-e640-481b-beab-52837bd0675b"
      },
      "outputs": [
        {
          "data": {
            "text/plain": [
              "array([0., 1.], dtype=float32)"
            ]
          },
          "execution_count": 84,
          "metadata": {},
          "output_type": "execute_result"
        }
      ],
      "source": [
        "y_test[0]"
      ]
    },
    {
      "cell_type": "code",
      "execution_count": null,
      "id": "7d7cbf0b-54a1-42b9-80e6-ccd1e886e251",
      "metadata": {
        "id": "7d7cbf0b-54a1-42b9-80e6-ccd1e886e251"
      },
      "outputs": [],
      "source": [
        "from keras import Sequential\n",
        "from keras.layers import Dense"
      ]
    },
    {
      "cell_type": "code",
      "execution_count": null,
      "id": "fcd142d4-669b-47d5-9589-9d349abf127e",
      "metadata": {
        "id": "fcd142d4-669b-47d5-9589-9d349abf127e"
      },
      "outputs": [],
      "source": [
        "model = Sequential([\n",
        "    Dense(128, activation=\"relu\", input_shape=(X_train.shape[1],)),\n",
        "    Dense(64, activation=\"relu\"),\n",
        "    Dense(32, activation=\"relu\"),\n",
        "    Dense(2, activation=\"sigmoid\")\n",
        "])"
      ]
    },
    {
      "cell_type": "code",
      "execution_count": null,
      "id": "323bcee9-9e0e-4f0a-99a2-ba57a1e73c81",
      "metadata": {
        "id": "323bcee9-9e0e-4f0a-99a2-ba57a1e73c81"
      },
      "outputs": [],
      "source": [
        "model.compile(optimizer=\"adam\", loss=\"binary_crossentropy\", metrics=['accuracy'])"
      ]
    },
    {
      "cell_type": "code",
      "execution_count": null,
      "id": "3e68ed7d-1038-4c73-af5f-96f56c359fc6",
      "metadata": {
        "id": "3e68ed7d-1038-4c73-af5f-96f56c359fc6",
        "outputId": "9adb3d61-13ba-4640-8aec-4d9cf3e075c6"
      },
      "outputs": [
        {
          "name": "stdout",
          "output_type": "stream",
          "text": [
            "Epoch 1/10\n",
            "1250/1250 [==============================] - 182s 111ms/step - loss: 0.6932 - accuracy: 0.4979\n",
            "Epoch 2/10\n",
            "1250/1250 [==============================] - 144s 115ms/step - loss: 0.1809 - accuracy: 0.9198\n",
            "Epoch 3/10\n",
            "1250/1250 [==============================] - 165s 132ms/step - loss: 5.2433e-05 - accuracy: 1.0000\n",
            "Epoch 4/10\n",
            "1250/1250 [==============================] - 137s 109ms/step - loss: 2.9092e-06 - accuracy: 1.0000\n",
            "Epoch 5/10\n",
            "1250/1250 [==============================] - 129s 103ms/step - loss: 1.6361e-06 - accuracy: 1.0000\n",
            "Epoch 6/10\n",
            "1250/1250 [==============================] - 128s 102ms/step - loss: 8.7311e-07 - accuracy: 1.0000\n",
            "Epoch 7/10\n",
            "1250/1250 [==============================] - 130s 104ms/step - loss: 3.9333e-07 - accuracy: 1.0000\n",
            "Epoch 8/10\n",
            "1250/1250 [==============================] - 127s 101ms/step - loss: 1.6622e-07 - accuracy: 1.0000\n",
            "Epoch 9/10\n",
            "1250/1250 [==============================] - 140s 112ms/step - loss: 7.4152e-08 - accuracy: 1.0000\n",
            "Epoch 10/10\n",
            "1250/1250 [==============================] - 131s 105ms/step - loss: 4.1529e-08 - accuracy: 1.0000\n"
          ]
        },
        {
          "data": {
            "text/plain": [
              "<keras.src.callbacks.History at 0x21c00224650>"
            ]
          },
          "execution_count": 92,
          "metadata": {},
          "output_type": "execute_result"
        }
      ],
      "source": [
        "model.fit(X_train, y_train, epochs=10)"
      ]
    },
    {
      "cell_type": "code",
      "execution_count": null,
      "id": "2b6a62d2-8e4b-4293-b947-b724713348b9",
      "metadata": {
        "id": "2b6a62d2-8e4b-4293-b947-b724713348b9"
      },
      "outputs": [],
      "source": []
    }
  ],
  "metadata": {
    "kernelspec": {
      "display_name": "Python 3 (ipykernel)",
      "language": "python",
      "name": "python3"
    },
    "language_info": {
      "codemirror_mode": {
        "name": "ipython",
        "version": 3
      },
      "file_extension": ".py",
      "mimetype": "text/x-python",
      "name": "python",
      "nbconvert_exporter": "python",
      "pygments_lexer": "ipython3",
      "version": "3.11.7"
    },
    "colab": {
      "provenance": [],
      "include_colab_link": true
    }
  },
  "nbformat": 4,
  "nbformat_minor": 5
}