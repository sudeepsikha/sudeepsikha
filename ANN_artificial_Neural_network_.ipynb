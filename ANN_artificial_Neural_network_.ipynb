{
  "cells": [
    {
      "cell_type": "markdown",
      "metadata": {
        "id": "view-in-github",
        "colab_type": "text"
      },
      "source": [
        "<a href=\"https://colab.research.google.com/github/sudeepsikha/sudeepsikha/blob/main/ANN_artificial_Neural_network_.ipynb\" target=\"_parent\"><img src=\"https://colab.research.google.com/assets/colab-badge.svg\" alt=\"Open In Colab\"/></a>"
      ]
    },
    {
      "cell_type": "code",
      "execution_count": null,
      "id": "9e8a2126-05f6-48cf-b308-c02a273eaeca",
      "metadata": {
        "id": "9e8a2126-05f6-48cf-b308-c02a273eaeca"
      },
      "outputs": [],
      "source": [
        "import numpy as np"
      ]
    },
    {
      "cell_type": "code",
      "execution_count": null,
      "id": "888e52be-6c94-4ae3-b1c4-35d2f136c5b0",
      "metadata": {
        "id": "888e52be-6c94-4ae3-b1c4-35d2f136c5b0",
        "outputId": "c0c002db-d2f8-428d-a154-807a3be7090d"
      },
      "outputs": [
        {
          "name": "stdout",
          "output_type": "stream",
          "text": [
            "Neuron's random weights = [0.49712446 0.03912651 0.3509462  0.04390986] , and random bias = [0.31690158]\n"
          ]
        }
      ],
      "source": [
        "class neuron(object):\n",
        "    def __init__(self, num_inputs, activation):\n",
        "        super().__init__()\n",
        "        # initializing the weight vector and the bias value:\n",
        "        self.W = np.random.rand (num_inputs)\n",
        "        self.b = np.random.rand(1)\n",
        "        #the Activation Function\n",
        "        self.activation_function = activation\n",
        "    def output(self, x):\n",
        "        z = np.dot(x, self.W) + self.b\n",
        "        return self.activation_function(z)\n",
        "# Input Size of Neuron:\n",
        "input_size = 4\n",
        "#Step Function\n",
        "def step(x):\n",
        "    return [0 if x <= 0 else 1 ]\n",
        "    #Sigmoid Function\n",
        "def sigmoid(x):\n",
        "    return 1/(1 + np.exp(-x))\n",
        "#Tanh Function\n",
        "def tanh(x):\n",
        "    return (np.exp(x) - np.exp(-x))/(np.exp(x) + np.exp(-x))\n",
        "#ReLu Function\n",
        "def relu(x):\n",
        "    data = [max(0,value) for value in x]\n",
        "    return np.array(data, dtype=float)\n",
        "# Instantiating the perceptron:\n",
        "#i have used step function,To use any other function remove the # and use it.\n",
        "perceptron = neuron(num_inputs=input_size, activation=step)\n",
        "#perceptron = neuron(num_inputs=input_size, activation=sigmoid)\n",
        "#perceptron = neuron(num_inputs=input_size, activation=tanh)\n",
        "#perceptron = neuron(num_inputs=input_size, activation=relu)\n",
        "print(\"Neuron's random weights = {} , and random bias = {}\".format(perceptron.W, perceptron.b))"
      ]
    },
    {
      "cell_type": "code",
      "execution_count": null,
      "id": "85e18829-31f1-4f18-bc22-a224d23acf42",
      "metadata": {
        "id": "85e18829-31f1-4f18-bc22-a224d23acf42",
        "outputId": "d4fb5020-e913-48df-b290-e7b9445c3ba6"
      },
      "outputs": [
        {
          "name": "stdout",
          "output_type": "stream",
          "text": [
            "Neuron's random weights = [0.42684394 0.80385678 0.7942572  0.52383986] , and random bias = [0.45913373]\n"
          ]
        }
      ],
      "source": [
        "class neuron(object):\n",
        "    def __init__(self, num_inputs, activation):\n",
        "        super().__init__()\n",
        "        # initializing the weight vector and the bias value:\n",
        "        self.W = np.random.rand (num_inputs)\n",
        "        self.b = np.random.rand(1)\n",
        "        #the Activation Function\n",
        "        self.activation_function = activation\n",
        "    def output(self, x):\n",
        "        z = np.dot(x, self.W) + self.b\n",
        "        return self.activation_function(z)\n",
        "# Input Size of Neuron:\n",
        "input_size = 4\n",
        "#Step Function\n",
        "def step(x):\n",
        "    return [0 if x <= 0 else 1 ]\n",
        "    #Sigmoid Function\n",
        "def sigmoid(x):\n",
        "    return 1/(1 + np.exp(-x))\n",
        "#Tanh Function\n",
        "def tanh(x):\n",
        "    return (np.exp(x) - np.exp(-x))/(np.exp(x) + np.exp(-x))\n",
        "#ReLu Function\n",
        "def relu(x):\n",
        "    data = [max(0,value) for value in x]\n",
        "    return np.array(data, dtype=float)\n",
        "# Instantiating the perceptron:\n",
        "#i have used step function,To use any other function remove the # and use it.\n",
        "perceptron = neuron(num_inputs=input_size, activation=step)\n",
        "#perceptron = neuron(num_inputs=input_size, activation=sigmoid)\n",
        "#perceptron = neuron(num_inputs=input_size, activation=tanh)\n",
        "#perceptron = neuron(num_inputs=input_size, activation=relu)\n",
        "print(\"Neuron's random weights = {} , and random bias = {}\".format(perceptron.W, perceptron.b))"
      ]
    },
    {
      "cell_type": "code",
      "execution_count": null,
      "id": "09807d9b-4c13-4400-8576-864dc6fb33d0",
      "metadata": {
        "id": "09807d9b-4c13-4400-8576-864dc6fb33d0",
        "outputId": "34adb6fd-0f65-49f4-8fdb-b309e22170bf"
      },
      "outputs": [
        {
          "name": "stdout",
          "output_type": "stream",
          "text": [
            "input to the neuron : [[0.19402147 0.22390857 0.84912408 0.79674443]]\n",
            "Neuron's output value for given 'x':[1]\n"
          ]
        }
      ],
      "source": [
        "x = np.random.rand(input_size).reshape(1, input_size)\n",
        "print(\"input to the neuron : {}\".format(x))\n",
        "y= perceptron.output(x)\n",
        "print(\"Neuron's output value for given 'x':{}\".format(y))"
      ]
    },
    {
      "cell_type": "code",
      "execution_count": null,
      "id": "d9c1fd74-b348-428b-a352-89a9ecde206a",
      "metadata": {
        "id": "d9c1fd74-b348-428b-a352-89a9ecde206a",
        "outputId": "9c25c495-65ab-4473-c77d-e8183b436f7f"
      },
      "outputs": [
        {
          "name": "stdout",
          "output_type": "stream",
          "text": [
            "intput to the neuron : [[0.48731596 0.98235418 0.07238766 0.82705527]]\n",
            "Neuron's output value for given 'x':[1]\n"
          ]
        }
      ],
      "source": [
        "x = np.random.rand(input_size).reshape(1, input_size)\n",
        "print(\"intput to the neuron : {}\".format(x))\n",
        "y= perceptron.output(x)\n",
        "print(\"Neuron's output value for given 'x':{}\".format(y))"
      ]
    },
    {
      "cell_type": "code",
      "execution_count": null,
      "id": "55bd637c-2a45-4e02-9235-1af00e8c509b",
      "metadata": {
        "id": "55bd637c-2a45-4e02-9235-1af00e8c509b",
        "outputId": "0fd2f069-dd95-4212-8c21-95e5ff6255fd"
      },
      "outputs": [
        {
          "name": "stdout",
          "output_type": "stream",
          "text": [
            "Neuron's random weights = [0.08260258 0.49033735 0.24103487 0.22861734] , and random bias = [0.14994772]\n"
          ]
        }
      ],
      "source": [
        "class neuron(object):\n",
        "    def __init__(self, num_inputs, activation):\n",
        "        super().__init__()\n",
        "        # initializing the weight vector and the bias value:\n",
        "        self.W = np.random.rand (num_inputs)\n",
        "        self.b = np.random.rand(1)\n",
        "        #the Activation Function\n",
        "        self.activation_function = activation\n",
        "    def output(self, x):\n",
        "        z = np.dot(x, self.W) + self.b\n",
        "        return self.activation_function(z)\n",
        "# Input Size of Neuron:\n",
        "input_size = 4\n",
        "#Step Function\n",
        "def step(x):\n",
        "    return [0 if x <= 0 else 1 ]\n",
        "    #Sigmoid Function\n",
        "def sigmoid(x):\n",
        "    return 1/(1 + np.exp(-x))\n",
        "#Tanh Function\n",
        "def tanh(x):\n",
        "    return (np.exp(x) - np.exp(-x))/(np.exp(x) + np.exp(-x))\n",
        "#ReLu Function\n",
        "def relu(x):\n",
        "    data = [max(0,value) for value in x]\n",
        "    return np.array(data, dtype=float)\n",
        "# Instantiating the perceptron:\n",
        "#i have used step function,To use any other function remove the # and use it.\n",
        "perceptron = neuron(num_inputs=input_size, activation=step)\n",
        "#perceptron = neuron(num_inputs=input_size, activation=sigmoid)\n",
        "#perceptron = neuron(num_inputs=input_size, activation=tanh)\n",
        "#perceptron = neuron(num_inputs=input_size, activation=relu)\n",
        "print(\"Neuron's random weights = {} , and random bias = {}\".format(perceptron.W, perceptron.b))"
      ]
    },
    {
      "cell_type": "code",
      "execution_count": null,
      "id": "1bf24d24-aab0-4015-b25b-1588582e0ffd",
      "metadata": {
        "id": "1bf24d24-aab0-4015-b25b-1588582e0ffd"
      },
      "outputs": [],
      "source": []
    },
    {
      "cell_type": "code",
      "execution_count": null,
      "id": "f4fc829b-59e4-4408-88eb-e20b60668f36",
      "metadata": {
        "id": "f4fc829b-59e4-4408-88eb-e20b60668f36"
      },
      "outputs": [],
      "source": []
    }
  ],
  "metadata": {
    "kernelspec": {
      "display_name": "Python 3 (ipykernel)",
      "language": "python",
      "name": "python3"
    },
    "language_info": {
      "codemirror_mode": {
        "name": "ipython",
        "version": 3
      },
      "file_extension": ".py",
      "mimetype": "text/x-python",
      "name": "python",
      "nbconvert_exporter": "python",
      "pygments_lexer": "ipython3",
      "version": "3.11.7"
    },
    "colab": {
      "provenance": [],
      "include_colab_link": true
    }
  },
  "nbformat": 4,
  "nbformat_minor": 5
}