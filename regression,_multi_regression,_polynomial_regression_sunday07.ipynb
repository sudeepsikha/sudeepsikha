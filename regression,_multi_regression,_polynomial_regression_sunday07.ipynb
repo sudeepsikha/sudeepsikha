{
  "cells": [
    {
      "cell_type": "markdown",
      "metadata": {
        "id": "view-in-github",
        "colab_type": "text"
      },
      "source": [
        "<a href=\"https://colab.research.google.com/github/sudeepsikha/sudeepsikha/blob/main/regression%2C_multi_regression%2C_polynomial_regression_sunday07.ipynb\" target=\"_parent\"><img src=\"https://colab.research.google.com/assets/colab-badge.svg\" alt=\"Open In Colab\"/></a>"
      ]
    },
    {
      "cell_type": "code",
      "execution_count": null,
      "id": "76060dbf-143d-4945-b697-2a9e4514c61b",
      "metadata": {
        "id": "76060dbf-143d-4945-b697-2a9e4514c61b"
      },
      "outputs": [],
      "source": [
        "\n",
        "import numpy as np"
      ]
    },
    {
      "cell_type": "raw",
      "id": "ea41b036-a7be-4a0b-a9bb-18cd717db44f",
      "metadata": {
        "id": "ea41b036-a7be-4a0b-a9bb-18cd717db44f"
      },
      "source": [
        "from sklearn.Linear_model import LinearRegression"
      ]
    },
    {
      "cell_type": "code",
      "execution_count": null,
      "id": "a0350946-22cc-44f0-99ec-5b778103b226",
      "metadata": {
        "id": "a0350946-22cc-44f0-99ec-5b778103b226"
      },
      "outputs": [],
      "source": [
        "from sklearn.linear_model import LinearRegression"
      ]
    },
    {
      "cell_type": "code",
      "execution_count": null,
      "id": "e981fdbe-7f2c-4bd3-9e89-fc8f0d52c515",
      "metadata": {
        "id": "e981fdbe-7f2c-4bd3-9e89-fc8f0d52c515"
      },
      "outputs": [],
      "source": [
        "x=np.array([2010, 2012, 2014, 2016, 2018, 2020]).reshape((-1,1))\n",
        "y=np.array([50, 60, 75, 100, 110, 125])"
      ]
    },
    {
      "cell_type": "code",
      "execution_count": null,
      "id": "f6d37323-b17c-4d5b-939a-9fb57f7a8e5a",
      "metadata": {
        "id": "f6d37323-b17c-4d5b-939a-9fb57f7a8e5a",
        "outputId": "039f69f2-3bc4-4b01-a131-412fa7ad2135"
      },
      "outputs": [
        {
          "data": {
            "text/plain": [
              "array([[2010],\n",
              "       [2012],\n",
              "       [2014],\n",
              "       [2016],\n",
              "       [2018],\n",
              "       [2020]])"
            ]
          },
          "execution_count": 19,
          "metadata": {},
          "output_type": "execute_result"
        }
      ],
      "source": [
        "x"
      ]
    },
    {
      "cell_type": "markdown",
      "id": "119e5fc0-ffc2-41f2-ae86-212e91f77ef0",
      "metadata": {
        "id": "119e5fc0-ffc2-41f2-ae86-212e91f77ef0"
      },
      "source": [
        "x.shape"
      ]
    },
    {
      "cell_type": "code",
      "execution_count": null,
      "id": "4509d8a1-f498-409d-ba5d-388d80347c15",
      "metadata": {
        "id": "4509d8a1-f498-409d-ba5d-388d80347c15",
        "outputId": "7dd5249f-78b6-4d6c-df96-5546495c746e"
      },
      "outputs": [
        {
          "data": {
            "text/plain": [
              "(6, 1)"
            ]
          },
          "execution_count": 11,
          "metadata": {},
          "output_type": "execute_result"
        }
      ],
      "source": [
        "x.shape"
      ]
    },
    {
      "cell_type": "code",
      "execution_count": null,
      "id": "c712db0f-c848-48e1-8805-9405f7b31852",
      "metadata": {
        "id": "c712db0f-c848-48e1-8805-9405f7b31852"
      },
      "outputs": [],
      "source": [
        "y=np.array([50, 60, 75, 100, 110, 125])"
      ]
    },
    {
      "cell_type": "code",
      "execution_count": null,
      "id": "046031cb-f059-486f-b674-d595725dc527",
      "metadata": {
        "id": "046031cb-f059-486f-b674-d595725dc527"
      },
      "outputs": [],
      "source": [
        "model= LinearRegression()"
      ]
    },
    {
      "cell_type": "code",
      "execution_count": null,
      "id": "89de4a51-6c8a-45f0-8abd-76e3303292fb",
      "metadata": {
        "id": "89de4a51-6c8a-45f0-8abd-76e3303292fb",
        "outputId": "34126fba-8792-4d62-b9a0-3d0fa16fdb30"
      },
      "outputs": [
        {
          "data": {
            "text/html": [
              "<style>#sk-container-id-1 {color: black;background-color: white;}#sk-container-id-1 pre{padding: 0;}#sk-container-id-1 div.sk-toggleable {background-color: white;}#sk-container-id-1 label.sk-toggleable__label {cursor: pointer;display: block;width: 100%;margin-bottom: 0;padding: 0.3em;box-sizing: border-box;text-align: center;}#sk-container-id-1 label.sk-toggleable__label-arrow:before {content: \"▸\";float: left;margin-right: 0.25em;color: #696969;}#sk-container-id-1 label.sk-toggleable__label-arrow:hover:before {color: black;}#sk-container-id-1 div.sk-estimator:hover label.sk-toggleable__label-arrow:before {color: black;}#sk-container-id-1 div.sk-toggleable__content {max-height: 0;max-width: 0;overflow: hidden;text-align: left;background-color: #f0f8ff;}#sk-container-id-1 div.sk-toggleable__content pre {margin: 0.2em;color: black;border-radius: 0.25em;background-color: #f0f8ff;}#sk-container-id-1 input.sk-toggleable__control:checked~div.sk-toggleable__content {max-height: 200px;max-width: 100%;overflow: auto;}#sk-container-id-1 input.sk-toggleable__control:checked~label.sk-toggleable__label-arrow:before {content: \"▾\";}#sk-container-id-1 div.sk-estimator input.sk-toggleable__control:checked~label.sk-toggleable__label {background-color: #d4ebff;}#sk-container-id-1 div.sk-label input.sk-toggleable__control:checked~label.sk-toggleable__label {background-color: #d4ebff;}#sk-container-id-1 input.sk-hidden--visually {border: 0;clip: rect(1px 1px 1px 1px);clip: rect(1px, 1px, 1px, 1px);height: 1px;margin: -1px;overflow: hidden;padding: 0;position: absolute;width: 1px;}#sk-container-id-1 div.sk-estimator {font-family: monospace;background-color: #f0f8ff;border: 1px dotted black;border-radius: 0.25em;box-sizing: border-box;margin-bottom: 0.5em;}#sk-container-id-1 div.sk-estimator:hover {background-color: #d4ebff;}#sk-container-id-1 div.sk-parallel-item::after {content: \"\";width: 100%;border-bottom: 1px solid gray;flex-grow: 1;}#sk-container-id-1 div.sk-label:hover label.sk-toggleable__label {background-color: #d4ebff;}#sk-container-id-1 div.sk-serial::before {content: \"\";position: absolute;border-left: 1px solid gray;box-sizing: border-box;top: 0;bottom: 0;left: 50%;z-index: 0;}#sk-container-id-1 div.sk-serial {display: flex;flex-direction: column;align-items: center;background-color: white;padding-right: 0.2em;padding-left: 0.2em;position: relative;}#sk-container-id-1 div.sk-item {position: relative;z-index: 1;}#sk-container-id-1 div.sk-parallel {display: flex;align-items: stretch;justify-content: center;background-color: white;position: relative;}#sk-container-id-1 div.sk-item::before, #sk-container-id-1 div.sk-parallel-item::before {content: \"\";position: absolute;border-left: 1px solid gray;box-sizing: border-box;top: 0;bottom: 0;left: 50%;z-index: -1;}#sk-container-id-1 div.sk-parallel-item {display: flex;flex-direction: column;z-index: 1;position: relative;background-color: white;}#sk-container-id-1 div.sk-parallel-item:first-child::after {align-self: flex-end;width: 50%;}#sk-container-id-1 div.sk-parallel-item:last-child::after {align-self: flex-start;width: 50%;}#sk-container-id-1 div.sk-parallel-item:only-child::after {width: 0;}#sk-container-id-1 div.sk-dashed-wrapped {border: 1px dashed gray;margin: 0 0.4em 0.5em 0.4em;box-sizing: border-box;padding-bottom: 0.4em;background-color: white;}#sk-container-id-1 div.sk-label label {font-family: monospace;font-weight: bold;display: inline-block;line-height: 1.2em;}#sk-container-id-1 div.sk-label-container {text-align: center;}#sk-container-id-1 div.sk-container {/* jupyter's `normalize.less` sets `[hidden] { display: none; }` but bootstrap.min.css set `[hidden] { display: none !important; }` so we also need the `!important` here to be able to override the default hidden behavior on the sphinx rendered scikit-learn.org. See: https://github.com/scikit-learn/scikit-learn/issues/21755 */display: inline-block !important;position: relative;}#sk-container-id-1 div.sk-text-repr-fallback {display: none;}</style><div id=\"sk-container-id-1\" class=\"sk-top-container\"><div class=\"sk-text-repr-fallback\"><pre>LinearRegression()</pre><b>In a Jupyter environment, please rerun this cell to show the HTML representation or trust the notebook. <br />On GitHub, the HTML representation is unable to render, please try loading this page with nbviewer.org.</b></div><div class=\"sk-container\" hidden><div class=\"sk-item\"><div class=\"sk-estimator sk-toggleable\"><input class=\"sk-toggleable__control sk-hidden--visually\" id=\"sk-estimator-id-1\" type=\"checkbox\" checked><label for=\"sk-estimator-id-1\" class=\"sk-toggleable__label sk-toggleable__label-arrow\">LinearRegression</label><div class=\"sk-toggleable__content\"><pre>LinearRegression()</pre></div></div></div></div></div>"
            ],
            "text/plain": [
              "LinearRegression()"
            ]
          },
          "execution_count": 30,
          "metadata": {},
          "output_type": "execute_result"
        }
      ],
      "source": [
        "model.fit(x, y)\n"
      ]
    },
    {
      "cell_type": "code",
      "execution_count": null,
      "id": "76b768d1-1061-4ea1-8207-ab5e7454fb39",
      "metadata": {
        "id": "76b768d1-1061-4ea1-8207-ab5e7454fb39"
      },
      "outputs": [],
      "source": [
        "x_new = np.array([2022]).reshape(-1,1)"
      ]
    },
    {
      "cell_type": "code",
      "execution_count": null,
      "id": "b953dcde-84bd-4ee1-a6d7-410a63a125fe",
      "metadata": {
        "id": "b953dcde-84bd-4ee1-a6d7-410a63a125fe"
      },
      "outputs": [],
      "source": [
        "y_pred = model.predict(x)"
      ]
    },
    {
      "cell_type": "code",
      "execution_count": null,
      "id": "d4599b38-fe1d-495a-a61a-c65be351c9a2",
      "metadata": {
        "id": "d4599b38-fe1d-495a-a61a-c65be351c9a2",
        "outputId": "d1a0e5ad-53ef-454c-bc8b-8cf2d9d2b9b6"
      },
      "outputs": [
        {
          "data": {
            "text/plain": [
              "array([ 47.38095238,  63.0952381 ,  78.80952381,  94.52380952,\n",
              "       110.23809524, 125.95238095])"
            ]
          },
          "execution_count": 33,
          "metadata": {},
          "output_type": "execute_result"
        }
      ],
      "source": [
        "y_pred"
      ]
    },
    {
      "cell_type": "code",
      "execution_count": null,
      "id": "dc48281c-0712-4d12-81c0-4408787b7b8a",
      "metadata": {
        "id": "dc48281c-0712-4d12-81c0-4408787b7b8a"
      },
      "outputs": [],
      "source": [
        "x_new = np.array([2022]).reshape(-1,1)"
      ]
    },
    {
      "cell_type": "code",
      "execution_count": null,
      "id": "cd679233-5647-4d27-ae56-c59b372b4ac9",
      "metadata": {
        "id": "cd679233-5647-4d27-ae56-c59b372b4ac9"
      },
      "outputs": [],
      "source": [
        "y_pred = model.predict(x_new)"
      ]
    },
    {
      "cell_type": "code",
      "execution_count": null,
      "id": "cc307bc7-b437-467c-8f0c-60c076474264",
      "metadata": {
        "id": "cc307bc7-b437-467c-8f0c-60c076474264",
        "outputId": "231350e9-41ef-461c-97ef-b2d1aa109b5f"
      },
      "outputs": [
        {
          "data": {
            "text/plain": [
              "array([141.66666667])"
            ]
          },
          "execution_count": 36,
          "metadata": {},
          "output_type": "execute_result"
        }
      ],
      "source": [
        "y_pred"
      ]
    },
    {
      "cell_type": "code",
      "execution_count": null,
      "id": "6051553d-b78c-4c57-8f68-e389cb7b052e",
      "metadata": {
        "id": "6051553d-b78c-4c57-8f68-e389cb7b052e"
      },
      "outputs": [],
      "source": [
        "x_new = np.array([2022, 2025, 2030]).reshape(-1,1)"
      ]
    },
    {
      "cell_type": "code",
      "execution_count": null,
      "id": "7b833417-5f8f-4fad-9745-f7fa9376e631",
      "metadata": {
        "id": "7b833417-5f8f-4fad-9745-f7fa9376e631"
      },
      "outputs": [],
      "source": [
        "y_pred = model.predict(x_new)"
      ]
    },
    {
      "cell_type": "code",
      "execution_count": null,
      "id": "53ff569c-3657-48a7-8e82-9c5041cf2a45",
      "metadata": {
        "id": "53ff569c-3657-48a7-8e82-9c5041cf2a45",
        "outputId": "9bd57183-b5bf-47af-c8ae-7c3926f2ab7b"
      },
      "outputs": [
        {
          "data": {
            "text/plain": [
              "array([141.66666667, 165.23809524, 204.52380952])"
            ]
          },
          "execution_count": 39,
          "metadata": {},
          "output_type": "execute_result"
        }
      ],
      "source": [
        "y_pred"
      ]
    },
    {
      "cell_type": "code",
      "execution_count": null,
      "id": "f992ed9b-8b2c-4bd5-85fe-ac0d90578bf6",
      "metadata": {
        "id": "f992ed9b-8b2c-4bd5-85fe-ac0d90578bf6",
        "outputId": "cd57a29f-aff2-4e46-decc-84c031144379"
      },
      "outputs": [
        {
          "name": "stdout",
          "output_type": "stream",
          "text": [
            "0.9858772406300933\n"
          ]
        }
      ],
      "source": [
        "r_sq = model.score(x,y)\n",
        "print(r_sq)"
      ]
    },
    {
      "cell_type": "code",
      "execution_count": null,
      "id": "372dab9c-a958-40fc-9a94-e5f2cce32ac7",
      "metadata": {
        "id": "372dab9c-a958-40fc-9a94-e5f2cce32ac7",
        "outputId": "2e8f06e1-27c8-4c3d-ca86-0c83840e78a1"
      },
      "outputs": [
        {
          "data": {
            "text/plain": [
              "-15745.476190476189"
            ]
          },
          "execution_count": 41,
          "metadata": {},
          "output_type": "execute_result"
        }
      ],
      "source": [
        "model.intercept_"
      ]
    },
    {
      "cell_type": "code",
      "execution_count": null,
      "id": "8e69612f-5949-4f29-876e-718f07a76da9",
      "metadata": {
        "id": "8e69612f-5949-4f29-876e-718f07a76da9",
        "outputId": "019cec66-ede1-41ba-8af5-cc1155540321"
      },
      "outputs": [
        {
          "data": {
            "text/plain": [
              "array([7.85714286])"
            ]
          },
          "execution_count": 42,
          "metadata": {},
          "output_type": "execute_result"
        }
      ],
      "source": [
        "model.coef_"
      ]
    },
    {
      "cell_type": "code",
      "execution_count": null,
      "id": "d8b4cbbe-50d7-4965-84e8-75a924b79bd3",
      "metadata": {
        "id": "d8b4cbbe-50d7-4965-84e8-75a924b79bd3"
      },
      "outputs": [],
      "source": [
        "#multi Linear Regression"
      ]
    },
    {
      "cell_type": "code",
      "execution_count": null,
      "id": "2b168c25-f85c-479a-b072-4a7bbc86b99b",
      "metadata": {
        "id": "2b168c25-f85c-479a-b072-4a7bbc86b99b"
      },
      "outputs": [],
      "source": [
        "import numpy as np"
      ]
    },
    {
      "cell_type": "code",
      "execution_count": null,
      "id": "d7526cf2-0ea6-4df1-a35d-2ce971818a63",
      "metadata": {
        "id": "d7526cf2-0ea6-4df1-a35d-2ce971818a63"
      },
      "outputs": [],
      "source": [
        "from sklearn.linear_model import LinearRegression"
      ]
    },
    {
      "cell_type": "code",
      "execution_count": null,
      "id": "f0e39356-4d6a-48b3-b383-afba45b2a288",
      "metadata": {
        "scrolled": true,
        "id": "f0e39356-4d6a-48b3-b383-afba45b2a288"
      },
      "outputs": [],
      "source": [
        "x = np.array ( [ [0, 1], [5, 1], [15, 2], [25, 5],\n",
        "[35, 11], [45, 15], [55, 34], [60, 35] ] )"
      ]
    },
    {
      "cell_type": "code",
      "execution_count": null,
      "id": "fa43424b-6a9d-4600-92ef-0d00dbbb11a7",
      "metadata": {
        "id": "fa43424b-6a9d-4600-92ef-0d00dbbb11a7",
        "outputId": "2ac6b9e0-b9b4-4387-fc39-fbdca9c1bce2"
      },
      "outputs": [
        {
          "data": {
            "text/plain": [
              "array([[ 0,  1],\n",
              "       [ 5,  1],\n",
              "       [15,  2],\n",
              "       [25,  5],\n",
              "       [35, 11],\n",
              "       [45, 15],\n",
              "       [55, 34],\n",
              "       [60, 35]])"
            ]
          },
          "execution_count": 49,
          "metadata": {},
          "output_type": "execute_result"
        }
      ],
      "source": [
        "x"
      ]
    },
    {
      "cell_type": "code",
      "execution_count": null,
      "id": "4aec53aa-392a-4df9-953c-795d3f6d1052",
      "metadata": {
        "id": "4aec53aa-392a-4df9-953c-795d3f6d1052",
        "outputId": "3e312a87-3400-46a2-81d9-0a99572af85f"
      },
      "outputs": [
        {
          "data": {
            "text/plain": [
              "(8, 2)"
            ]
          },
          "execution_count": 50,
          "metadata": {},
          "output_type": "execute_result"
        }
      ],
      "source": [
        "x.shape"
      ]
    },
    {
      "cell_type": "code",
      "execution_count": null,
      "id": "1a492e39-3ac9-43ba-b3a2-6c9ab09d7fa5",
      "metadata": {
        "id": "1a492e39-3ac9-43ba-b3a2-6c9ab09d7fa5"
      },
      "outputs": [],
      "source": [
        "y = np.array( [4, 5, 20, 14, 32, 22, 38, 43] )"
      ]
    },
    {
      "cell_type": "code",
      "execution_count": null,
      "id": "b6a00083-3ad3-4e73-a305-e4e01ae681d1",
      "metadata": {
        "id": "b6a00083-3ad3-4e73-a305-e4e01ae681d1",
        "outputId": "0bec8997-b502-4200-cf6a-8d5954bf4210"
      },
      "outputs": [
        {
          "data": {
            "text/plain": [
              "array([ 4,  5, 20, 14, 32, 22, 38, 43])"
            ]
          },
          "execution_count": 52,
          "metadata": {},
          "output_type": "execute_result"
        }
      ],
      "source": [
        "y"
      ]
    },
    {
      "cell_type": "code",
      "execution_count": null,
      "id": "f5fbe7d5-a12f-4d1e-b887-ed372b512804",
      "metadata": {
        "id": "f5fbe7d5-a12f-4d1e-b887-ed372b512804",
        "outputId": "a2daa0b7-40f2-42f8-d80a-ec320c8381ce"
      },
      "outputs": [
        {
          "data": {
            "text/html": [
              "<style>#sk-container-id-2 {color: black;background-color: white;}#sk-container-id-2 pre{padding: 0;}#sk-container-id-2 div.sk-toggleable {background-color: white;}#sk-container-id-2 label.sk-toggleable__label {cursor: pointer;display: block;width: 100%;margin-bottom: 0;padding: 0.3em;box-sizing: border-box;text-align: center;}#sk-container-id-2 label.sk-toggleable__label-arrow:before {content: \"▸\";float: left;margin-right: 0.25em;color: #696969;}#sk-container-id-2 label.sk-toggleable__label-arrow:hover:before {color: black;}#sk-container-id-2 div.sk-estimator:hover label.sk-toggleable__label-arrow:before {color: black;}#sk-container-id-2 div.sk-toggleable__content {max-height: 0;max-width: 0;overflow: hidden;text-align: left;background-color: #f0f8ff;}#sk-container-id-2 div.sk-toggleable__content pre {margin: 0.2em;color: black;border-radius: 0.25em;background-color: #f0f8ff;}#sk-container-id-2 input.sk-toggleable__control:checked~div.sk-toggleable__content {max-height: 200px;max-width: 100%;overflow: auto;}#sk-container-id-2 input.sk-toggleable__control:checked~label.sk-toggleable__label-arrow:before {content: \"▾\";}#sk-container-id-2 div.sk-estimator input.sk-toggleable__control:checked~label.sk-toggleable__label {background-color: #d4ebff;}#sk-container-id-2 div.sk-label input.sk-toggleable__control:checked~label.sk-toggleable__label {background-color: #d4ebff;}#sk-container-id-2 input.sk-hidden--visually {border: 0;clip: rect(1px 1px 1px 1px);clip: rect(1px, 1px, 1px, 1px);height: 1px;margin: -1px;overflow: hidden;padding: 0;position: absolute;width: 1px;}#sk-container-id-2 div.sk-estimator {font-family: monospace;background-color: #f0f8ff;border: 1px dotted black;border-radius: 0.25em;box-sizing: border-box;margin-bottom: 0.5em;}#sk-container-id-2 div.sk-estimator:hover {background-color: #d4ebff;}#sk-container-id-2 div.sk-parallel-item::after {content: \"\";width: 100%;border-bottom: 1px solid gray;flex-grow: 1;}#sk-container-id-2 div.sk-label:hover label.sk-toggleable__label {background-color: #d4ebff;}#sk-container-id-2 div.sk-serial::before {content: \"\";position: absolute;border-left: 1px solid gray;box-sizing: border-box;top: 0;bottom: 0;left: 50%;z-index: 0;}#sk-container-id-2 div.sk-serial {display: flex;flex-direction: column;align-items: center;background-color: white;padding-right: 0.2em;padding-left: 0.2em;position: relative;}#sk-container-id-2 div.sk-item {position: relative;z-index: 1;}#sk-container-id-2 div.sk-parallel {display: flex;align-items: stretch;justify-content: center;background-color: white;position: relative;}#sk-container-id-2 div.sk-item::before, #sk-container-id-2 div.sk-parallel-item::before {content: \"\";position: absolute;border-left: 1px solid gray;box-sizing: border-box;top: 0;bottom: 0;left: 50%;z-index: -1;}#sk-container-id-2 div.sk-parallel-item {display: flex;flex-direction: column;z-index: 1;position: relative;background-color: white;}#sk-container-id-2 div.sk-parallel-item:first-child::after {align-self: flex-end;width: 50%;}#sk-container-id-2 div.sk-parallel-item:last-child::after {align-self: flex-start;width: 50%;}#sk-container-id-2 div.sk-parallel-item:only-child::after {width: 0;}#sk-container-id-2 div.sk-dashed-wrapped {border: 1px dashed gray;margin: 0 0.4em 0.5em 0.4em;box-sizing: border-box;padding-bottom: 0.4em;background-color: white;}#sk-container-id-2 div.sk-label label {font-family: monospace;font-weight: bold;display: inline-block;line-height: 1.2em;}#sk-container-id-2 div.sk-label-container {text-align: center;}#sk-container-id-2 div.sk-container {/* jupyter's `normalize.less` sets `[hidden] { display: none; }` but bootstrap.min.css set `[hidden] { display: none !important; }` so we also need the `!important` here to be able to override the default hidden behavior on the sphinx rendered scikit-learn.org. See: https://github.com/scikit-learn/scikit-learn/issues/21755 */display: inline-block !important;position: relative;}#sk-container-id-2 div.sk-text-repr-fallback {display: none;}</style><div id=\"sk-container-id-2\" class=\"sk-top-container\"><div class=\"sk-text-repr-fallback\"><pre>LinearRegression()</pre><b>In a Jupyter environment, please rerun this cell to show the HTML representation or trust the notebook. <br />On GitHub, the HTML representation is unable to render, please try loading this page with nbviewer.org.</b></div><div class=\"sk-container\" hidden><div class=\"sk-item\"><div class=\"sk-estimator sk-toggleable\"><input class=\"sk-toggleable__control sk-hidden--visually\" id=\"sk-estimator-id-2\" type=\"checkbox\" checked><label for=\"sk-estimator-id-2\" class=\"sk-toggleable__label sk-toggleable__label-arrow\">LinearRegression</label><div class=\"sk-toggleable__content\"><pre>LinearRegression()</pre></div></div></div></div></div>"
            ],
            "text/plain": [
              "LinearRegression()"
            ]
          },
          "execution_count": 53,
          "metadata": {},
          "output_type": "execute_result"
        }
      ],
      "source": [
        "model = LinearRegression()\n",
        "\n",
        "model.fit(x, y)"
      ]
    },
    {
      "cell_type": "code",
      "execution_count": null,
      "id": "888c9f07-22c8-4062-960c-4a363f588add",
      "metadata": {
        "id": "888c9f07-22c8-4062-960c-4a363f588add"
      },
      "outputs": [],
      "source": [
        "y_pred = model.predict(x)"
      ]
    },
    {
      "cell_type": "code",
      "execution_count": null,
      "id": "28bac54e-43ad-4e08-a08a-861c7a32a306",
      "metadata": {
        "id": "28bac54e-43ad-4e08-a08a-861c7a32a306",
        "outputId": "009ef08d-e9cb-4dd7-b782-30a05032b623"
      },
      "outputs": [
        {
          "data": {
            "text/plain": [
              "array([ 5.77760476,  8.012953  , 12.73867497, 17.9744479 , 23.97529728,\n",
              "       29.4660957 , 38.78227633, 41.27265006])"
            ]
          },
          "execution_count": 56,
          "metadata": {},
          "output_type": "execute_result"
        }
      ],
      "source": [
        "y_pred"
      ]
    },
    {
      "cell_type": "code",
      "execution_count": null,
      "id": "e3c4bd74-d783-4b1f-8941-281ac2d35acb",
      "metadata": {
        "id": "e3c4bd74-d783-4b1f-8941-281ac2d35acb",
        "outputId": "c1d15bf4-2cfd-4675-da4b-1e974c998bd6"
      },
      "outputs": [
        {
          "data": {
            "text/plain": [
              "0.8615939258756776"
            ]
          },
          "execution_count": 57,
          "metadata": {},
          "output_type": "execute_result"
        }
      ],
      "source": [
        "model.score(x,y)"
      ]
    },
    {
      "cell_type": "code",
      "execution_count": null,
      "id": "d1a1df80-152e-4d82-8dce-9d07a64fbe43",
      "metadata": {
        "id": "d1a1df80-152e-4d82-8dce-9d07a64fbe43",
        "outputId": "061b2d72-f496-4716-a3b9-56a77c30ce92"
      },
      "outputs": [
        {
          "data": {
            "text/plain": [
              "5.52257927519819"
            ]
          },
          "execution_count": 59,
          "metadata": {},
          "output_type": "execute_result"
        }
      ],
      "source": [
        "model.intercept_"
      ]
    },
    {
      "cell_type": "code",
      "execution_count": null,
      "id": "65f1be3e-481f-43a8-8db5-cf9c4bc4f416",
      "metadata": {
        "id": "65f1be3e-481f-43a8-8db5-cf9c4bc4f416",
        "outputId": "be9b046a-c952-4546-900b-3db47f02d2e8"
      },
      "outputs": [
        {
          "data": {
            "text/plain": [
              "array([0.44706965, 0.25502548])"
            ]
          },
          "execution_count": 60,
          "metadata": {},
          "output_type": "execute_result"
        }
      ],
      "source": [
        "model.coef_"
      ]
    },
    {
      "cell_type": "code",
      "execution_count": null,
      "id": "7180e9bd-d8ee-4956-8146-f60bf3158235",
      "metadata": {
        "id": "7180e9bd-d8ee-4956-8146-f60bf3158235"
      },
      "outputs": [],
      "source": [
        "#Polynominal regression"
      ]
    },
    {
      "cell_type": "code",
      "execution_count": null,
      "id": "720f79d3-32da-4290-8061-4e93ed83b21d",
      "metadata": {
        "id": "720f79d3-32da-4290-8061-4e93ed83b21d"
      },
      "outputs": [],
      "source": [
        "import numpy as np\n",
        "from sklearn.linear_model import LinearRegression\n",
        "from sklearn.preprocessing import PolynomialFeatures\n"
      ]
    },
    {
      "cell_type": "code",
      "execution_count": null,
      "id": "a667c1dd-512e-4fdc-a07b-f35b81f3c934",
      "metadata": {
        "id": "a667c1dd-512e-4fdc-a07b-f35b81f3c934"
      },
      "outputs": [],
      "source": [
        "x = np.array([5, 15, 25, 35, 45, 55]).reshape((-1, 1))\n",
        "y = np.array([15, 11, 2, 8, 25, 32])\n"
      ]
    },
    {
      "cell_type": "code",
      "execution_count": null,
      "id": "e81ab9f2-9c77-4b42-8154-260757cdf803",
      "metadata": {
        "id": "e81ab9f2-9c77-4b42-8154-260757cdf803"
      },
      "outputs": [],
      "source": [
        "x_poly = PolynomialFeatures(degree=3)\n",
        "x_poly.fit(x)\n",
        "x_new = x_poly.transform(x)\n"
      ]
    },
    {
      "cell_type": "code",
      "execution_count": null,
      "id": "0d3e3136-9b10-424a-aa30-a28ab2f231c9",
      "metadata": {
        "id": "0d3e3136-9b10-424a-aa30-a28ab2f231c9",
        "outputId": "73742a84-5acb-4245-a319-ca7884000383"
      },
      "outputs": [
        {
          "data": {
            "text/plain": [
              "array([[ 5],\n",
              "       [15],\n",
              "       [25],\n",
              "       [35],\n",
              "       [45],\n",
              "       [55]])"
            ]
          },
          "execution_count": 65,
          "metadata": {},
          "output_type": "execute_result"
        }
      ],
      "source": [
        "x"
      ]
    },
    {
      "cell_type": "code",
      "execution_count": null,
      "id": "d21b7007-e067-4d2e-bccc-13178e8ad13f",
      "metadata": {
        "id": "d21b7007-e067-4d2e-bccc-13178e8ad13f",
        "outputId": "f416701b-8de0-48a9-f715-abfb6f183a19"
      },
      "outputs": [
        {
          "data": {
            "text/plain": [
              "(6, 1)"
            ]
          },
          "execution_count": 67,
          "metadata": {},
          "output_type": "execute_result"
        }
      ],
      "source": [
        "x.shape"
      ]
    },
    {
      "cell_type": "code",
      "execution_count": null,
      "id": "368c4360-6410-49bc-a6ee-e55f67fb96ca",
      "metadata": {
        "id": "368c4360-6410-49bc-a6ee-e55f67fb96ca",
        "outputId": "c3c95644-110f-4cfb-e45c-60dd59467eee"
      },
      "outputs": [
        {
          "data": {
            "text/html": [
              "<style>#sk-container-id-3 {color: black;background-color: white;}#sk-container-id-3 pre{padding: 0;}#sk-container-id-3 div.sk-toggleable {background-color: white;}#sk-container-id-3 label.sk-toggleable__label {cursor: pointer;display: block;width: 100%;margin-bottom: 0;padding: 0.3em;box-sizing: border-box;text-align: center;}#sk-container-id-3 label.sk-toggleable__label-arrow:before {content: \"▸\";float: left;margin-right: 0.25em;color: #696969;}#sk-container-id-3 label.sk-toggleable__label-arrow:hover:before {color: black;}#sk-container-id-3 div.sk-estimator:hover label.sk-toggleable__label-arrow:before {color: black;}#sk-container-id-3 div.sk-toggleable__content {max-height: 0;max-width: 0;overflow: hidden;text-align: left;background-color: #f0f8ff;}#sk-container-id-3 div.sk-toggleable__content pre {margin: 0.2em;color: black;border-radius: 0.25em;background-color: #f0f8ff;}#sk-container-id-3 input.sk-toggleable__control:checked~div.sk-toggleable__content {max-height: 200px;max-width: 100%;overflow: auto;}#sk-container-id-3 input.sk-toggleable__control:checked~label.sk-toggleable__label-arrow:before {content: \"▾\";}#sk-container-id-3 div.sk-estimator input.sk-toggleable__control:checked~label.sk-toggleable__label {background-color: #d4ebff;}#sk-container-id-3 div.sk-label input.sk-toggleable__control:checked~label.sk-toggleable__label {background-color: #d4ebff;}#sk-container-id-3 input.sk-hidden--visually {border: 0;clip: rect(1px 1px 1px 1px);clip: rect(1px, 1px, 1px, 1px);height: 1px;margin: -1px;overflow: hidden;padding: 0;position: absolute;width: 1px;}#sk-container-id-3 div.sk-estimator {font-family: monospace;background-color: #f0f8ff;border: 1px dotted black;border-radius: 0.25em;box-sizing: border-box;margin-bottom: 0.5em;}#sk-container-id-3 div.sk-estimator:hover {background-color: #d4ebff;}#sk-container-id-3 div.sk-parallel-item::after {content: \"\";width: 100%;border-bottom: 1px solid gray;flex-grow: 1;}#sk-container-id-3 div.sk-label:hover label.sk-toggleable__label {background-color: #d4ebff;}#sk-container-id-3 div.sk-serial::before {content: \"\";position: absolute;border-left: 1px solid gray;box-sizing: border-box;top: 0;bottom: 0;left: 50%;z-index: 0;}#sk-container-id-3 div.sk-serial {display: flex;flex-direction: column;align-items: center;background-color: white;padding-right: 0.2em;padding-left: 0.2em;position: relative;}#sk-container-id-3 div.sk-item {position: relative;z-index: 1;}#sk-container-id-3 div.sk-parallel {display: flex;align-items: stretch;justify-content: center;background-color: white;position: relative;}#sk-container-id-3 div.sk-item::before, #sk-container-id-3 div.sk-parallel-item::before {content: \"\";position: absolute;border-left: 1px solid gray;box-sizing: border-box;top: 0;bottom: 0;left: 50%;z-index: -1;}#sk-container-id-3 div.sk-parallel-item {display: flex;flex-direction: column;z-index: 1;position: relative;background-color: white;}#sk-container-id-3 div.sk-parallel-item:first-child::after {align-self: flex-end;width: 50%;}#sk-container-id-3 div.sk-parallel-item:last-child::after {align-self: flex-start;width: 50%;}#sk-container-id-3 div.sk-parallel-item:only-child::after {width: 0;}#sk-container-id-3 div.sk-dashed-wrapped {border: 1px dashed gray;margin: 0 0.4em 0.5em 0.4em;box-sizing: border-box;padding-bottom: 0.4em;background-color: white;}#sk-container-id-3 div.sk-label label {font-family: monospace;font-weight: bold;display: inline-block;line-height: 1.2em;}#sk-container-id-3 div.sk-label-container {text-align: center;}#sk-container-id-3 div.sk-container {/* jupyter's `normalize.less` sets `[hidden] { display: none; }` but bootstrap.min.css set `[hidden] { display: none !important; }` so we also need the `!important` here to be able to override the default hidden behavior on the sphinx rendered scikit-learn.org. See: https://github.com/scikit-learn/scikit-learn/issues/21755 */display: inline-block !important;position: relative;}#sk-container-id-3 div.sk-text-repr-fallback {display: none;}</style><div id=\"sk-container-id-3\" class=\"sk-top-container\"><div class=\"sk-text-repr-fallback\"><pre>LinearRegression()</pre><b>In a Jupyter environment, please rerun this cell to show the HTML representation or trust the notebook. <br />On GitHub, the HTML representation is unable to render, please try loading this page with nbviewer.org.</b></div><div class=\"sk-container\" hidden><div class=\"sk-item\"><div class=\"sk-estimator sk-toggleable\"><input class=\"sk-toggleable__control sk-hidden--visually\" id=\"sk-estimator-id-3\" type=\"checkbox\" checked><label for=\"sk-estimator-id-3\" class=\"sk-toggleable__label sk-toggleable__label-arrow\">LinearRegression</label><div class=\"sk-toggleable__content\"><pre>LinearRegression()</pre></div></div></div></div></div>"
            ],
            "text/plain": [
              "LinearRegression()"
            ]
          },
          "execution_count": 68,
          "metadata": {},
          "output_type": "execute_result"
        }
      ],
      "source": [
        "model = LinearRegression()\n",
        "model.fit(x_new, y)\n"
      ]
    },
    {
      "cell_type": "code",
      "execution_count": null,
      "id": "801e40d0-152b-4adc-932d-f52149a8b57a",
      "metadata": {
        "id": "801e40d0-152b-4adc-932d-f52149a8b57a"
      },
      "outputs": [],
      "source": [
        "y_pred = model.predict(x_new)"
      ]
    },
    {
      "cell_type": "code",
      "execution_count": null,
      "id": "7673233e-a534-404b-8230-2be2daf3d92b",
      "metadata": {
        "id": "7673233e-a534-404b-8230-2be2daf3d92b",
        "outputId": "6f7ac2ee-a953-48fa-82a1-a21b5ae516c3"
      },
      "outputs": [
        {
          "data": {
            "text/plain": [
              "array([16.49206349,  6.46825397,  5.20634921, 10.65079365, 20.74603175,\n",
              "       33.43650794])"
            ]
          },
          "execution_count": 72,
          "metadata": {},
          "output_type": "execute_result"
        }
      ],
      "source": [
        "y_pred"
      ]
    },
    {
      "cell_type": "code",
      "execution_count": null,
      "id": "e3cbaa67-ec35-4301-a9a3-44e81416482b",
      "metadata": {
        "id": "e3cbaa67-ec35-4301-a9a3-44e81416482b"
      },
      "outputs": [],
      "source": []
    }
  ],
  "metadata": {
    "kernelspec": {
      "display_name": "Python 3 (ipykernel)",
      "language": "python",
      "name": "python3"
    },
    "language_info": {
      "codemirror_mode": {
        "name": "ipython",
        "version": 3
      },
      "file_extension": ".py",
      "mimetype": "text/x-python",
      "name": "python",
      "nbconvert_exporter": "python",
      "pygments_lexer": "ipython3",
      "version": "3.11.7"
    },
    "colab": {
      "provenance": [],
      "include_colab_link": true
    }
  },
  "nbformat": 4,
  "nbformat_minor": 5
}